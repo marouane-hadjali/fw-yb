{
  "nbformat": 4,
  "nbformat_minor": 0,
  "metadata": {
    "colab": {
      "provenance": [],
      "include_colab_link": true
    },
    "kernelspec": {
      "name": "python3",
      "display_name": "Python 3"
    },
    "accelerator": "GPU"
  },
  "cells": [
    {
      "cell_type": "markdown",
      "metadata": {
        "id": "view-in-github",
        "colab_type": "text"
      },
      "source": [
        "<a href=\"https://colab.research.google.com/github/marouane-hadjali/fw-yb/blob/main/1_data_preprocessing.ipynb\" target=\"_parent\"><img src=\"https://colab.research.google.com/assets/colab-badge.svg\" alt=\"Open In Colab\"/></a>"
      ]
    },
    {
      "cell_type": "markdown",
      "source": [
        "##  **Téléchargement les données sur le notebook**"
      ],
      "metadata": {
        "id": "autMJrx-vz2I"
      }
    },
    {
      "metadata": {
        "id": "Rj4Sf220io3n",
        "colab": {
          "base_uri": "https://localhost:8080/"
        },
        "outputId": "cfcbfbb1-4336-4bf8-f4f8-6e3bc0908615"
      },
      "cell_type": "code",
      "source": [
        "!wget https://archive.ics.uci.edu/ml/machine-learning-databases/00462/drugsCom_raw.zip   # download data to notebook "
      ],
      "execution_count": 24,
      "outputs": [
        {
          "output_type": "stream",
          "name": "stdout",
          "text": [
            "--2022-12-09 17:28:34--  https://archive.ics.uci.edu/ml/machine-learning-databases/00462/drugsCom_raw.zip\n",
            "Resolving archive.ics.uci.edu (archive.ics.uci.edu)... 128.195.10.252\n",
            "Connecting to archive.ics.uci.edu (archive.ics.uci.edu)|128.195.10.252|:443... connected.\n",
            "HTTP request sent, awaiting response... 200 OK\n",
            "Length: 42989872 (41M) [application/x-httpd-php]\n",
            "Saving to: ‘drugsCom_raw.zip.1’\n",
            "\n",
            "drugsCom_raw.zip.1  100%[===================>]  41.00M  12.3MB/s    in 3.3s    \n",
            "\n",
            "2022-12-09 17:28:38 (12.3 MB/s) - ‘drugsCom_raw.zip.1’ saved [42989872/42989872]\n",
            "\n"
          ]
        }
      ]
    },
    {
      "cell_type": "code",
      "source": [
        "##  **Décompression du zip des données**"
      ],
      "metadata": {
        "id": "npMHIOqb1q4O"
      },
      "execution_count": 25,
      "outputs": []
    },
    {
      "metadata": {
        "id": "EjucsO3fjhHv",
        "colab": {
          "base_uri": "https://localhost:8080/"
        },
        "outputId": "fa802473-9c5c-49a8-c29e-ca90a6c0203f"
      },
      "cell_type": "code",
      "source": [
        "!unzip drugsCom_raw.zip          #unzip data "
      ],
      "execution_count": 26,
      "outputs": [
        {
          "output_type": "stream",
          "name": "stdout",
          "text": [
            "Archive:  drugsCom_raw.zip\n",
            "replace drugsComTest_raw.tsv? [y]es, [n]o, [A]ll, [N]one, [r]ename: "
          ]
        }
      ]
    },
    {
      "cell_type": "markdown",
      "source": [
        "##  **Chargement des données**"
      ],
      "metadata": {
        "id": "nviB7go814KQ"
      }
    },
    {
      "metadata": {
        "id": "m57_C-3oj1Cr"
      },
      "cell_type": "code",
      "source": [
        "import pandas as pd\n",
        "df1 = pd.read_csv('drugsComTest_raw.tsv',delimiter='\\t')     # Read the files with the pandas dataFrame\n",
        "df2 = pd.read_csv('drugsComTrain_raw.tsv', delimiter='\\t')   #  pass use the '\\t' delimiter as argument because it is a tab separated file to prevent parser error"
      ],
      "execution_count": 27,
      "outputs": []
    },
    {
      "cell_type": "markdown",
      "source": [
        "### Combiner les deux dataframes en un seul pour obtenir une plus grande taille de données et faciliter le prétraitement."
      ],
      "metadata": {
        "id": "tCC1HB8i2BLd"
      }
    },
    {
      "metadata": {
        "id": "M0ABTmmGkmm9"
      },
      "cell_type": "code",
      "source": [
        "df = pd.concat([df1,df2])"
      ],
      "execution_count": 28,
      "outputs": []
    },
    {
      "cell_type": "markdown",
      "source": [
        "## Dimension (nbr lignes, nbr colonnes)"
      ],
      "metadata": {
        "id": "8BvCjqhN2Hk_"
      }
    },
    {
      "metadata": {
        "id": "o8qqPUG4lJRX",
        "colab": {
          "base_uri": "https://localhost:8080/"
        },
        "outputId": "7cd87917-3bbf-48c8-9f0f-ac860f25045d"
      },
      "cell_type": "code",
      "source": [
        "df1.shape"
      ],
      "execution_count": 29,
      "outputs": [
        {
          "output_type": "execute_result",
          "data": {
            "text/plain": [
              "(53766, 7)"
            ]
          },
          "metadata": {},
          "execution_count": 29
        }
      ]
    },
    {
      "metadata": {
        "id": "SJQgttRslNez",
        "colab": {
          "base_uri": "https://localhost:8080/"
        },
        "outputId": "b55e9529-a23d-4b21-ea78-eede495d328c"
      },
      "cell_type": "code",
      "source": [
        "df2.shape"
      ],
      "execution_count": 30,
      "outputs": [
        {
          "output_type": "execute_result",
          "data": {
            "text/plain": [
              "(161297, 7)"
            ]
          },
          "metadata": {},
          "execution_count": 30
        }
      ]
    },
    {
      "metadata": {
        "id": "3C8ksNDAlQ-r",
        "colab": {
          "base_uri": "https://localhost:8080/"
        },
        "outputId": "67e6fb1f-a2aa-4f83-fb63-7debe5860f8e"
      },
      "cell_type": "code",
      "source": [
        "df.shape            # confirmer la fusion"
      ],
      "execution_count": 31,
      "outputs": [
        {
          "output_type": "execute_result",
          "data": {
            "text/plain": [
              "(215063, 7)"
            ]
          },
          "metadata": {},
          "execution_count": 31
        }
      ]
    },
    {
      "cell_type": "markdown",
      "source": [
        "## Aperçu du dataset"
      ],
      "metadata": {
        "id": "2VaxnnCL2RQX"
      }
    },
    {
      "metadata": {
        "id": "hRXti_jilaxR",
        "colab": {
          "base_uri": "https://localhost:8080/",
          "height": 206
        },
        "outputId": "53a863c6-88aa-460d-deab-cfdd08c2c37a"
      },
      "cell_type": "code",
      "source": [
        "df.head()"
      ],
      "execution_count": 32,
      "outputs": [
        {
          "output_type": "execute_result",
          "data": {
            "text/plain": [
              "   Unnamed: 0         drugName                     condition  \\\n",
              "0      163740      Mirtazapine                    Depression   \n",
              "1      206473       Mesalamine  Crohn's Disease, Maintenance   \n",
              "2      159672          Bactrim       Urinary Tract Infection   \n",
              "3       39293         Contrave                   Weight Loss   \n",
              "4       97768  Cyclafem 1 / 35                 Birth Control   \n",
              "\n",
              "                                              review  rating  \\\n",
              "0  \"I&#039;ve tried a few antidepressants over th...    10.0   \n",
              "1  \"My son has Crohn&#039;s disease and has done ...     8.0   \n",
              "2                      \"Quick reduction of symptoms\"     9.0   \n",
              "3  \"Contrave combines drugs that were used for al...     9.0   \n",
              "4  \"I have been on this birth control for one cyc...     9.0   \n",
              "\n",
              "                 date  usefulCount  \n",
              "0   February 28, 2012           22  \n",
              "1        May 17, 2009           17  \n",
              "2  September 29, 2017            3  \n",
              "3       March 5, 2017           35  \n",
              "4    October 22, 2015            4  "
            ],
            "text/html": [
              "\n",
              "  <div id=\"df-2184362c-b555-4229-810c-30a2c9019432\">\n",
              "    <div class=\"colab-df-container\">\n",
              "      <div>\n",
              "<style scoped>\n",
              "    .dataframe tbody tr th:only-of-type {\n",
              "        vertical-align: middle;\n",
              "    }\n",
              "\n",
              "    .dataframe tbody tr th {\n",
              "        vertical-align: top;\n",
              "    }\n",
              "\n",
              "    .dataframe thead th {\n",
              "        text-align: right;\n",
              "    }\n",
              "</style>\n",
              "<table border=\"1\" class=\"dataframe\">\n",
              "  <thead>\n",
              "    <tr style=\"text-align: right;\">\n",
              "      <th></th>\n",
              "      <th>Unnamed: 0</th>\n",
              "      <th>drugName</th>\n",
              "      <th>condition</th>\n",
              "      <th>review</th>\n",
              "      <th>rating</th>\n",
              "      <th>date</th>\n",
              "      <th>usefulCount</th>\n",
              "    </tr>\n",
              "  </thead>\n",
              "  <tbody>\n",
              "    <tr>\n",
              "      <th>0</th>\n",
              "      <td>163740</td>\n",
              "      <td>Mirtazapine</td>\n",
              "      <td>Depression</td>\n",
              "      <td>\"I&amp;#039;ve tried a few antidepressants over th...</td>\n",
              "      <td>10.0</td>\n",
              "      <td>February 28, 2012</td>\n",
              "      <td>22</td>\n",
              "    </tr>\n",
              "    <tr>\n",
              "      <th>1</th>\n",
              "      <td>206473</td>\n",
              "      <td>Mesalamine</td>\n",
              "      <td>Crohn's Disease, Maintenance</td>\n",
              "      <td>\"My son has Crohn&amp;#039;s disease and has done ...</td>\n",
              "      <td>8.0</td>\n",
              "      <td>May 17, 2009</td>\n",
              "      <td>17</td>\n",
              "    </tr>\n",
              "    <tr>\n",
              "      <th>2</th>\n",
              "      <td>159672</td>\n",
              "      <td>Bactrim</td>\n",
              "      <td>Urinary Tract Infection</td>\n",
              "      <td>\"Quick reduction of symptoms\"</td>\n",
              "      <td>9.0</td>\n",
              "      <td>September 29, 2017</td>\n",
              "      <td>3</td>\n",
              "    </tr>\n",
              "    <tr>\n",
              "      <th>3</th>\n",
              "      <td>39293</td>\n",
              "      <td>Contrave</td>\n",
              "      <td>Weight Loss</td>\n",
              "      <td>\"Contrave combines drugs that were used for al...</td>\n",
              "      <td>9.0</td>\n",
              "      <td>March 5, 2017</td>\n",
              "      <td>35</td>\n",
              "    </tr>\n",
              "    <tr>\n",
              "      <th>4</th>\n",
              "      <td>97768</td>\n",
              "      <td>Cyclafem 1 / 35</td>\n",
              "      <td>Birth Control</td>\n",
              "      <td>\"I have been on this birth control for one cyc...</td>\n",
              "      <td>9.0</td>\n",
              "      <td>October 22, 2015</td>\n",
              "      <td>4</td>\n",
              "    </tr>\n",
              "  </tbody>\n",
              "</table>\n",
              "</div>\n",
              "      <button class=\"colab-df-convert\" onclick=\"convertToInteractive('df-2184362c-b555-4229-810c-30a2c9019432')\"\n",
              "              title=\"Convert this dataframe to an interactive table.\"\n",
              "              style=\"display:none;\">\n",
              "        \n",
              "  <svg xmlns=\"http://www.w3.org/2000/svg\" height=\"24px\"viewBox=\"0 0 24 24\"\n",
              "       width=\"24px\">\n",
              "    <path d=\"M0 0h24v24H0V0z\" fill=\"none\"/>\n",
              "    <path d=\"M18.56 5.44l.94 2.06.94-2.06 2.06-.94-2.06-.94-.94-2.06-.94 2.06-2.06.94zm-11 1L8.5 8.5l.94-2.06 2.06-.94-2.06-.94L8.5 2.5l-.94 2.06-2.06.94zm10 10l.94 2.06.94-2.06 2.06-.94-2.06-.94-.94-2.06-.94 2.06-2.06.94z\"/><path d=\"M17.41 7.96l-1.37-1.37c-.4-.4-.92-.59-1.43-.59-.52 0-1.04.2-1.43.59L10.3 9.45l-7.72 7.72c-.78.78-.78 2.05 0 2.83L4 21.41c.39.39.9.59 1.41.59.51 0 1.02-.2 1.41-.59l7.78-7.78 2.81-2.81c.8-.78.8-2.07 0-2.86zM5.41 20L4 18.59l7.72-7.72 1.47 1.35L5.41 20z\"/>\n",
              "  </svg>\n",
              "      </button>\n",
              "      \n",
              "  <style>\n",
              "    .colab-df-container {\n",
              "      display:flex;\n",
              "      flex-wrap:wrap;\n",
              "      gap: 12px;\n",
              "    }\n",
              "\n",
              "    .colab-df-convert {\n",
              "      background-color: #E8F0FE;\n",
              "      border: none;\n",
              "      border-radius: 50%;\n",
              "      cursor: pointer;\n",
              "      display: none;\n",
              "      fill: #1967D2;\n",
              "      height: 32px;\n",
              "      padding: 0 0 0 0;\n",
              "      width: 32px;\n",
              "    }\n",
              "\n",
              "    .colab-df-convert:hover {\n",
              "      background-color: #E2EBFA;\n",
              "      box-shadow: 0px 1px 2px rgba(60, 64, 67, 0.3), 0px 1px 3px 1px rgba(60, 64, 67, 0.15);\n",
              "      fill: #174EA6;\n",
              "    }\n",
              "\n",
              "    [theme=dark] .colab-df-convert {\n",
              "      background-color: #3B4455;\n",
              "      fill: #D2E3FC;\n",
              "    }\n",
              "\n",
              "    [theme=dark] .colab-df-convert:hover {\n",
              "      background-color: #434B5C;\n",
              "      box-shadow: 0px 1px 3px 1px rgba(0, 0, 0, 0.15);\n",
              "      filter: drop-shadow(0px 1px 2px rgba(0, 0, 0, 0.3));\n",
              "      fill: #FFFFFF;\n",
              "    }\n",
              "  </style>\n",
              "\n",
              "      <script>\n",
              "        const buttonEl =\n",
              "          document.querySelector('#df-2184362c-b555-4229-810c-30a2c9019432 button.colab-df-convert');\n",
              "        buttonEl.style.display =\n",
              "          google.colab.kernel.accessAllowed ? 'block' : 'none';\n",
              "\n",
              "        async function convertToInteractive(key) {\n",
              "          const element = document.querySelector('#df-2184362c-b555-4229-810c-30a2c9019432');\n",
              "          const dataTable =\n",
              "            await google.colab.kernel.invokeFunction('convertToInteractive',\n",
              "                                                     [key], {});\n",
              "          if (!dataTable) return;\n",
              "\n",
              "          const docLinkHtml = 'Like what you see? Visit the ' +\n",
              "            '<a target=\"_blank\" href=https://colab.research.google.com/notebooks/data_table.ipynb>data table notebook</a>'\n",
              "            + ' to learn more about interactive tables.';\n",
              "          element.innerHTML = '';\n",
              "          dataTable['output_type'] = 'display_data';\n",
              "          await google.colab.output.renderOutput(dataTable, element);\n",
              "          const docLink = document.createElement('div');\n",
              "          docLink.innerHTML = docLinkHtml;\n",
              "          element.appendChild(docLink);\n",
              "        }\n",
              "      </script>\n",
              "    </div>\n",
              "  </div>\n",
              "  "
            ]
          },
          "metadata": {},
          "execution_count": 32
        }
      ]
    },
    {
      "cell_type": "markdown",
      "source": [
        "## Renommage des colonnes"
      ],
      "metadata": {
        "id": "3mPdIID02VU3"
      }
    },
    {
      "metadata": {
        "id": "tNIazNZhlfvs"
      },
      "cell_type": "code",
      "source": [
        "df.columns = ['Id','drugName','condition','review','rating','date','usefulCount']    #rename columns"
      ],
      "execution_count": 33,
      "outputs": []
    },
    {
      "metadata": {
        "id": "ZQqfW1o-lyhP",
        "colab": {
          "base_uri": "https://localhost:8080/",
          "height": 206
        },
        "outputId": "11ae1b20-1e1d-4192-a613-1c6cc9532379"
      },
      "cell_type": "code",
      "source": [
        "df.head()"
      ],
      "execution_count": 34,
      "outputs": [
        {
          "output_type": "execute_result",
          "data": {
            "text/plain": [
              "       Id         drugName                     condition  \\\n",
              "0  163740      Mirtazapine                    Depression   \n",
              "1  206473       Mesalamine  Crohn's Disease, Maintenance   \n",
              "2  159672          Bactrim       Urinary Tract Infection   \n",
              "3   39293         Contrave                   Weight Loss   \n",
              "4   97768  Cyclafem 1 / 35                 Birth Control   \n",
              "\n",
              "                                              review  rating  \\\n",
              "0  \"I&#039;ve tried a few antidepressants over th...    10.0   \n",
              "1  \"My son has Crohn&#039;s disease and has done ...     8.0   \n",
              "2                      \"Quick reduction of symptoms\"     9.0   \n",
              "3  \"Contrave combines drugs that were used for al...     9.0   \n",
              "4  \"I have been on this birth control for one cyc...     9.0   \n",
              "\n",
              "                 date  usefulCount  \n",
              "0   February 28, 2012           22  \n",
              "1        May 17, 2009           17  \n",
              "2  September 29, 2017            3  \n",
              "3       March 5, 2017           35  \n",
              "4    October 22, 2015            4  "
            ],
            "text/html": [
              "\n",
              "  <div id=\"df-93a3c60a-1ee5-49c1-9e9f-171dfe568e9e\">\n",
              "    <div class=\"colab-df-container\">\n",
              "      <div>\n",
              "<style scoped>\n",
              "    .dataframe tbody tr th:only-of-type {\n",
              "        vertical-align: middle;\n",
              "    }\n",
              "\n",
              "    .dataframe tbody tr th {\n",
              "        vertical-align: top;\n",
              "    }\n",
              "\n",
              "    .dataframe thead th {\n",
              "        text-align: right;\n",
              "    }\n",
              "</style>\n",
              "<table border=\"1\" class=\"dataframe\">\n",
              "  <thead>\n",
              "    <tr style=\"text-align: right;\">\n",
              "      <th></th>\n",
              "      <th>Id</th>\n",
              "      <th>drugName</th>\n",
              "      <th>condition</th>\n",
              "      <th>review</th>\n",
              "      <th>rating</th>\n",
              "      <th>date</th>\n",
              "      <th>usefulCount</th>\n",
              "    </tr>\n",
              "  </thead>\n",
              "  <tbody>\n",
              "    <tr>\n",
              "      <th>0</th>\n",
              "      <td>163740</td>\n",
              "      <td>Mirtazapine</td>\n",
              "      <td>Depression</td>\n",
              "      <td>\"I&amp;#039;ve tried a few antidepressants over th...</td>\n",
              "      <td>10.0</td>\n",
              "      <td>February 28, 2012</td>\n",
              "      <td>22</td>\n",
              "    </tr>\n",
              "    <tr>\n",
              "      <th>1</th>\n",
              "      <td>206473</td>\n",
              "      <td>Mesalamine</td>\n",
              "      <td>Crohn's Disease, Maintenance</td>\n",
              "      <td>\"My son has Crohn&amp;#039;s disease and has done ...</td>\n",
              "      <td>8.0</td>\n",
              "      <td>May 17, 2009</td>\n",
              "      <td>17</td>\n",
              "    </tr>\n",
              "    <tr>\n",
              "      <th>2</th>\n",
              "      <td>159672</td>\n",
              "      <td>Bactrim</td>\n",
              "      <td>Urinary Tract Infection</td>\n",
              "      <td>\"Quick reduction of symptoms\"</td>\n",
              "      <td>9.0</td>\n",
              "      <td>September 29, 2017</td>\n",
              "      <td>3</td>\n",
              "    </tr>\n",
              "    <tr>\n",
              "      <th>3</th>\n",
              "      <td>39293</td>\n",
              "      <td>Contrave</td>\n",
              "      <td>Weight Loss</td>\n",
              "      <td>\"Contrave combines drugs that were used for al...</td>\n",
              "      <td>9.0</td>\n",
              "      <td>March 5, 2017</td>\n",
              "      <td>35</td>\n",
              "    </tr>\n",
              "    <tr>\n",
              "      <th>4</th>\n",
              "      <td>97768</td>\n",
              "      <td>Cyclafem 1 / 35</td>\n",
              "      <td>Birth Control</td>\n",
              "      <td>\"I have been on this birth control for one cyc...</td>\n",
              "      <td>9.0</td>\n",
              "      <td>October 22, 2015</td>\n",
              "      <td>4</td>\n",
              "    </tr>\n",
              "  </tbody>\n",
              "</table>\n",
              "</div>\n",
              "      <button class=\"colab-df-convert\" onclick=\"convertToInteractive('df-93a3c60a-1ee5-49c1-9e9f-171dfe568e9e')\"\n",
              "              title=\"Convert this dataframe to an interactive table.\"\n",
              "              style=\"display:none;\">\n",
              "        \n",
              "  <svg xmlns=\"http://www.w3.org/2000/svg\" height=\"24px\"viewBox=\"0 0 24 24\"\n",
              "       width=\"24px\">\n",
              "    <path d=\"M0 0h24v24H0V0z\" fill=\"none\"/>\n",
              "    <path d=\"M18.56 5.44l.94 2.06.94-2.06 2.06-.94-2.06-.94-.94-2.06-.94 2.06-2.06.94zm-11 1L8.5 8.5l.94-2.06 2.06-.94-2.06-.94L8.5 2.5l-.94 2.06-2.06.94zm10 10l.94 2.06.94-2.06 2.06-.94-2.06-.94-.94-2.06-.94 2.06-2.06.94z\"/><path d=\"M17.41 7.96l-1.37-1.37c-.4-.4-.92-.59-1.43-.59-.52 0-1.04.2-1.43.59L10.3 9.45l-7.72 7.72c-.78.78-.78 2.05 0 2.83L4 21.41c.39.39.9.59 1.41.59.51 0 1.02-.2 1.41-.59l7.78-7.78 2.81-2.81c.8-.78.8-2.07 0-2.86zM5.41 20L4 18.59l7.72-7.72 1.47 1.35L5.41 20z\"/>\n",
              "  </svg>\n",
              "      </button>\n",
              "      \n",
              "  <style>\n",
              "    .colab-df-container {\n",
              "      display:flex;\n",
              "      flex-wrap:wrap;\n",
              "      gap: 12px;\n",
              "    }\n",
              "\n",
              "    .colab-df-convert {\n",
              "      background-color: #E8F0FE;\n",
              "      border: none;\n",
              "      border-radius: 50%;\n",
              "      cursor: pointer;\n",
              "      display: none;\n",
              "      fill: #1967D2;\n",
              "      height: 32px;\n",
              "      padding: 0 0 0 0;\n",
              "      width: 32px;\n",
              "    }\n",
              "\n",
              "    .colab-df-convert:hover {\n",
              "      background-color: #E2EBFA;\n",
              "      box-shadow: 0px 1px 2px rgba(60, 64, 67, 0.3), 0px 1px 3px 1px rgba(60, 64, 67, 0.15);\n",
              "      fill: #174EA6;\n",
              "    }\n",
              "\n",
              "    [theme=dark] .colab-df-convert {\n",
              "      background-color: #3B4455;\n",
              "      fill: #D2E3FC;\n",
              "    }\n",
              "\n",
              "    [theme=dark] .colab-df-convert:hover {\n",
              "      background-color: #434B5C;\n",
              "      box-shadow: 0px 1px 3px 1px rgba(0, 0, 0, 0.15);\n",
              "      filter: drop-shadow(0px 1px 2px rgba(0, 0, 0, 0.3));\n",
              "      fill: #FFFFFF;\n",
              "    }\n",
              "  </style>\n",
              "\n",
              "      <script>\n",
              "        const buttonEl =\n",
              "          document.querySelector('#df-93a3c60a-1ee5-49c1-9e9f-171dfe568e9e button.colab-df-convert');\n",
              "        buttonEl.style.display =\n",
              "          google.colab.kernel.accessAllowed ? 'block' : 'none';\n",
              "\n",
              "        async function convertToInteractive(key) {\n",
              "          const element = document.querySelector('#df-93a3c60a-1ee5-49c1-9e9f-171dfe568e9e');\n",
              "          const dataTable =\n",
              "            await google.colab.kernel.invokeFunction('convertToInteractive',\n",
              "                                                     [key], {});\n",
              "          if (!dataTable) return;\n",
              "\n",
              "          const docLinkHtml = 'Like what you see? Visit the ' +\n",
              "            '<a target=\"_blank\" href=https://colab.research.google.com/notebooks/data_table.ipynb>data table notebook</a>'\n",
              "            + ' to learn more about interactive tables.';\n",
              "          element.innerHTML = '';\n",
              "          dataTable['output_type'] = 'display_data';\n",
              "          await google.colab.output.renderOutput(dataTable, element);\n",
              "          const docLink = document.createElement('div');\n",
              "          docLink.innerHTML = docLinkHtml;\n",
              "          element.appendChild(docLink);\n",
              "        }\n",
              "      </script>\n",
              "    </div>\n",
              "  </div>\n",
              "  "
            ]
          },
          "metadata": {},
          "execution_count": 34
        }
      ]
    },
    {
      "cell_type": "markdown",
      "source": [
        "## Dataframe (copie) sur lequel se fera l'analyse des sentiments"
      ],
      "metadata": {
        "id": "QkLllrYH2YtV"
      }
    },
    {
      "metadata": {
        "id": "HJyIIGFbl7P8"
      },
      "cell_type": "code",
      "source": [
        "df2 = df[['Id','review','rating']].copy()    # create a new dataframe with just review and rating for sentiment analysis"
      ],
      "execution_count": 35,
      "outputs": []
    },
    {
      "metadata": {
        "id": "lv7h2-GFnzJT",
        "colab": {
          "base_uri": "https://localhost:8080/",
          "height": 206
        },
        "outputId": "ae662ca9-c23d-466e-b60a-0233a2b199a4"
      },
      "cell_type": "code",
      "source": [
        "df2.head()"
      ],
      "execution_count": 36,
      "outputs": [
        {
          "output_type": "execute_result",
          "data": {
            "text/plain": [
              "       Id                                             review  rating\n",
              "0  163740  \"I&#039;ve tried a few antidepressants over th...    10.0\n",
              "1  206473  \"My son has Crohn&#039;s disease and has done ...     8.0\n",
              "2  159672                      \"Quick reduction of symptoms\"     9.0\n",
              "3   39293  \"Contrave combines drugs that were used for al...     9.0\n",
              "4   97768  \"I have been on this birth control for one cyc...     9.0"
            ],
            "text/html": [
              "\n",
              "  <div id=\"df-b79376ba-9813-46e2-a09c-277ac7673cc1\">\n",
              "    <div class=\"colab-df-container\">\n",
              "      <div>\n",
              "<style scoped>\n",
              "    .dataframe tbody tr th:only-of-type {\n",
              "        vertical-align: middle;\n",
              "    }\n",
              "\n",
              "    .dataframe tbody tr th {\n",
              "        vertical-align: top;\n",
              "    }\n",
              "\n",
              "    .dataframe thead th {\n",
              "        text-align: right;\n",
              "    }\n",
              "</style>\n",
              "<table border=\"1\" class=\"dataframe\">\n",
              "  <thead>\n",
              "    <tr style=\"text-align: right;\">\n",
              "      <th></th>\n",
              "      <th>Id</th>\n",
              "      <th>review</th>\n",
              "      <th>rating</th>\n",
              "    </tr>\n",
              "  </thead>\n",
              "  <tbody>\n",
              "    <tr>\n",
              "      <th>0</th>\n",
              "      <td>163740</td>\n",
              "      <td>\"I&amp;#039;ve tried a few antidepressants over th...</td>\n",
              "      <td>10.0</td>\n",
              "    </tr>\n",
              "    <tr>\n",
              "      <th>1</th>\n",
              "      <td>206473</td>\n",
              "      <td>\"My son has Crohn&amp;#039;s disease and has done ...</td>\n",
              "      <td>8.0</td>\n",
              "    </tr>\n",
              "    <tr>\n",
              "      <th>2</th>\n",
              "      <td>159672</td>\n",
              "      <td>\"Quick reduction of symptoms\"</td>\n",
              "      <td>9.0</td>\n",
              "    </tr>\n",
              "    <tr>\n",
              "      <th>3</th>\n",
              "      <td>39293</td>\n",
              "      <td>\"Contrave combines drugs that were used for al...</td>\n",
              "      <td>9.0</td>\n",
              "    </tr>\n",
              "    <tr>\n",
              "      <th>4</th>\n",
              "      <td>97768</td>\n",
              "      <td>\"I have been on this birth control for one cyc...</td>\n",
              "      <td>9.0</td>\n",
              "    </tr>\n",
              "  </tbody>\n",
              "</table>\n",
              "</div>\n",
              "      <button class=\"colab-df-convert\" onclick=\"convertToInteractive('df-b79376ba-9813-46e2-a09c-277ac7673cc1')\"\n",
              "              title=\"Convert this dataframe to an interactive table.\"\n",
              "              style=\"display:none;\">\n",
              "        \n",
              "  <svg xmlns=\"http://www.w3.org/2000/svg\" height=\"24px\"viewBox=\"0 0 24 24\"\n",
              "       width=\"24px\">\n",
              "    <path d=\"M0 0h24v24H0V0z\" fill=\"none\"/>\n",
              "    <path d=\"M18.56 5.44l.94 2.06.94-2.06 2.06-.94-2.06-.94-.94-2.06-.94 2.06-2.06.94zm-11 1L8.5 8.5l.94-2.06 2.06-.94-2.06-.94L8.5 2.5l-.94 2.06-2.06.94zm10 10l.94 2.06.94-2.06 2.06-.94-2.06-.94-.94-2.06-.94 2.06-2.06.94z\"/><path d=\"M17.41 7.96l-1.37-1.37c-.4-.4-.92-.59-1.43-.59-.52 0-1.04.2-1.43.59L10.3 9.45l-7.72 7.72c-.78.78-.78 2.05 0 2.83L4 21.41c.39.39.9.59 1.41.59.51 0 1.02-.2 1.41-.59l7.78-7.78 2.81-2.81c.8-.78.8-2.07 0-2.86zM5.41 20L4 18.59l7.72-7.72 1.47 1.35L5.41 20z\"/>\n",
              "  </svg>\n",
              "      </button>\n",
              "      \n",
              "  <style>\n",
              "    .colab-df-container {\n",
              "      display:flex;\n",
              "      flex-wrap:wrap;\n",
              "      gap: 12px;\n",
              "    }\n",
              "\n",
              "    .colab-df-convert {\n",
              "      background-color: #E8F0FE;\n",
              "      border: none;\n",
              "      border-radius: 50%;\n",
              "      cursor: pointer;\n",
              "      display: none;\n",
              "      fill: #1967D2;\n",
              "      height: 32px;\n",
              "      padding: 0 0 0 0;\n",
              "      width: 32px;\n",
              "    }\n",
              "\n",
              "    .colab-df-convert:hover {\n",
              "      background-color: #E2EBFA;\n",
              "      box-shadow: 0px 1px 2px rgba(60, 64, 67, 0.3), 0px 1px 3px 1px rgba(60, 64, 67, 0.15);\n",
              "      fill: #174EA6;\n",
              "    }\n",
              "\n",
              "    [theme=dark] .colab-df-convert {\n",
              "      background-color: #3B4455;\n",
              "      fill: #D2E3FC;\n",
              "    }\n",
              "\n",
              "    [theme=dark] .colab-df-convert:hover {\n",
              "      background-color: #434B5C;\n",
              "      box-shadow: 0px 1px 3px 1px rgba(0, 0, 0, 0.15);\n",
              "      filter: drop-shadow(0px 1px 2px rgba(0, 0, 0, 0.3));\n",
              "      fill: #FFFFFF;\n",
              "    }\n",
              "  </style>\n",
              "\n",
              "      <script>\n",
              "        const buttonEl =\n",
              "          document.querySelector('#df-b79376ba-9813-46e2-a09c-277ac7673cc1 button.colab-df-convert');\n",
              "        buttonEl.style.display =\n",
              "          google.colab.kernel.accessAllowed ? 'block' : 'none';\n",
              "\n",
              "        async function convertToInteractive(key) {\n",
              "          const element = document.querySelector('#df-b79376ba-9813-46e2-a09c-277ac7673cc1');\n",
              "          const dataTable =\n",
              "            await google.colab.kernel.invokeFunction('convertToInteractive',\n",
              "                                                     [key], {});\n",
              "          if (!dataTable) return;\n",
              "\n",
              "          const docLinkHtml = 'Like what you see? Visit the ' +\n",
              "            '<a target=\"_blank\" href=https://colab.research.google.com/notebooks/data_table.ipynb>data table notebook</a>'\n",
              "            + ' to learn more about interactive tables.';\n",
              "          element.innerHTML = '';\n",
              "          dataTable['output_type'] = 'display_data';\n",
              "          await google.colab.output.renderOutput(dataTable, element);\n",
              "          const docLink = document.createElement('div');\n",
              "          docLink.innerHTML = docLinkHtml;\n",
              "          element.appendChild(docLink);\n",
              "        }\n",
              "      </script>\n",
              "    </div>\n",
              "  </div>\n",
              "  "
            ]
          },
          "metadata": {},
          "execution_count": 36
        }
      ]
    },
    {
      "cell_type": "markdown",
      "source": [
        "## Vérification des valeurs nulles (manquantes)"
      ],
      "metadata": {
        "id": "dOwhnJwp2h6G"
      }
    },
    {
      "metadata": {
        "id": "jVo1aQ7o5BsX",
        "colab": {
          "base_uri": "https://localhost:8080/"
        },
        "outputId": "5e46fb56-cd61-4e48-a550-3cb907c69301"
      },
      "cell_type": "code",
      "source": [
        "df2.isnull().any().any()    # check for null"
      ],
      "execution_count": 37,
      "outputs": [
        {
          "output_type": "execute_result",
          "data": {
            "text/plain": [
              "False"
            ]
          },
          "metadata": {},
          "execution_count": 37
        }
      ]
    },
    {
      "cell_type": "markdown",
      "source": [
        "## Vérification du nombre d'observation (pas de doublons)"
      ],
      "metadata": {
        "id": "cDcf4oxH2nus"
      }
    },
    {
      "metadata": {
        "id": "6Aw8HXXL6Jrp",
        "colab": {
          "base_uri": "https://localhost:8080/"
        },
        "outputId": "916a819a-9b16-4316-e636-09a3cd9881ef"
      },
      "cell_type": "code",
      "source": [
        "df2['Id'].nunique()     #shows unique Id values"
      ],
      "execution_count": 38,
      "outputs": [
        {
          "output_type": "execute_result",
          "data": {
            "text/plain": [
              "215063"
            ]
          },
          "metadata": {},
          "execution_count": 38
        }
      ]
    },
    {
      "metadata": {
        "id": "u68-XAnp6Jp0",
        "colab": {
          "base_uri": "https://localhost:8080/"
        },
        "outputId": "4ee6cdff-d6f6-4045-9750-219110a80ec8"
      },
      "cell_type": "code",
      "source": [
        "df['review'][1]         # access indivdual value  "
      ],
      "execution_count": 39,
      "outputs": [
        {
          "output_type": "execute_result",
          "data": {
            "text/plain": [
              "1    \"My son has Crohn&#039;s disease and has done ...\n",
              "1    \"My son is halfway through his fourth week of ...\n",
              "Name: review, dtype: object"
            ]
          },
          "metadata": {},
          "execution_count": 39
        }
      ]
    },
    {
      "cell_type": "markdown",
      "source": [
        "# Analyse des sentiments"
      ],
      "metadata": {
        "id": "klNKH74h2wrE"
      }
    },
    {
      "cell_type": "markdown",
      "source": [
        "## Installer la bibliothèque d'analyse des sentiments \"vaderSentiment\""
      ],
      "metadata": {
        "id": "zrFQPABY2zig"
      }
    },
    {
      "metadata": {
        "id": "DhwN8TkC6JNh",
        "colab": {
          "base_uri": "https://localhost:8080/"
        },
        "outputId": "1591eaf2-2bb4-474e-97d6-fbac9bf0dcd5"
      },
      "cell_type": "code",
      "source": [
        "!pip install vaderSentiment       # install Sentiment Analysis  library"
      ],
      "execution_count": 40,
      "outputs": [
        {
          "output_type": "stream",
          "name": "stdout",
          "text": [
            "Looking in indexes: https://pypi.org/simple, https://us-python.pkg.dev/colab-wheels/public/simple/\n",
            "Requirement already satisfied: vaderSentiment in /usr/local/lib/python3.8/dist-packages (3.3.2)\n",
            "Requirement already satisfied: requests in /usr/local/lib/python3.8/dist-packages (from vaderSentiment) (2.23.0)\n",
            "Requirement already satisfied: urllib3!=1.25.0,!=1.25.1,<1.26,>=1.21.1 in /usr/local/lib/python3.8/dist-packages (from requests->vaderSentiment) (1.24.3)\n",
            "Requirement already satisfied: certifi>=2017.4.17 in /usr/local/lib/python3.8/dist-packages (from requests->vaderSentiment) (2022.9.24)\n",
            "Requirement already satisfied: idna<3,>=2.5 in /usr/local/lib/python3.8/dist-packages (from requests->vaderSentiment) (2.10)\n",
            "Requirement already satisfied: chardet<4,>=3.0.2 in /usr/local/lib/python3.8/dist-packages (from requests->vaderSentiment) (3.0.4)\n"
          ]
        }
      ]
    },
    {
      "cell_type": "markdown",
      "source": [
        "## Traitement du langage naturel"
      ],
      "metadata": {
        "id": "TFSuizJ93A6c"
      }
    },
    {
      "metadata": {
        "id": "IHDP0trS6JMV",
        "colab": {
          "base_uri": "https://localhost:8080/"
        },
        "outputId": "12cddce8-57ec-4a35-bbf8-9d5241919662"
      },
      "cell_type": "code",
      "source": [
        "import nltk\n",
        "nltk.download(['punkt','stopwords'])"
      ],
      "execution_count": 41,
      "outputs": [
        {
          "output_type": "stream",
          "name": "stderr",
          "text": [
            "[nltk_data] Downloading package punkt to /root/nltk_data...\n",
            "[nltk_data]   Package punkt is already up-to-date!\n",
            "[nltk_data] Downloading package stopwords to /root/nltk_data...\n",
            "[nltk_data]   Package stopwords is already up-to-date!\n"
          ]
        },
        {
          "output_type": "execute_result",
          "data": {
            "text/plain": [
              "True"
            ]
          },
          "metadata": {},
          "execution_count": 41
        }
      ]
    },
    {
      "metadata": {
        "id": "mOjPHBxD6JLB"
      },
      "cell_type": "code",
      "source": [
        "from nltk.corpus import stopwords\n",
        "stopwords = stopwords.words('english')"
      ],
      "execution_count": 42,
      "outputs": []
    },
    {
      "metadata": {
        "id": "PctsizE2GYPE",
        "colab": {
          "base_uri": "https://localhost:8080/",
          "height": 206
        },
        "outputId": "db2f5e81-338e-46de-84d9-3e26518e2846"
      },
      "cell_type": "code",
      "source": [
        "df2.head()"
      ],
      "execution_count": 43,
      "outputs": [
        {
          "output_type": "execute_result",
          "data": {
            "text/plain": [
              "       Id                                             review  rating\n",
              "0  163740  \"I&#039;ve tried a few antidepressants over th...    10.0\n",
              "1  206473  \"My son has Crohn&#039;s disease and has done ...     8.0\n",
              "2  159672                      \"Quick reduction of symptoms\"     9.0\n",
              "3   39293  \"Contrave combines drugs that were used for al...     9.0\n",
              "4   97768  \"I have been on this birth control for one cyc...     9.0"
            ],
            "text/html": [
              "\n",
              "  <div id=\"df-155d0227-91dc-431f-9913-1f11e4b115e9\">\n",
              "    <div class=\"colab-df-container\">\n",
              "      <div>\n",
              "<style scoped>\n",
              "    .dataframe tbody tr th:only-of-type {\n",
              "        vertical-align: middle;\n",
              "    }\n",
              "\n",
              "    .dataframe tbody tr th {\n",
              "        vertical-align: top;\n",
              "    }\n",
              "\n",
              "    .dataframe thead th {\n",
              "        text-align: right;\n",
              "    }\n",
              "</style>\n",
              "<table border=\"1\" class=\"dataframe\">\n",
              "  <thead>\n",
              "    <tr style=\"text-align: right;\">\n",
              "      <th></th>\n",
              "      <th>Id</th>\n",
              "      <th>review</th>\n",
              "      <th>rating</th>\n",
              "    </tr>\n",
              "  </thead>\n",
              "  <tbody>\n",
              "    <tr>\n",
              "      <th>0</th>\n",
              "      <td>163740</td>\n",
              "      <td>\"I&amp;#039;ve tried a few antidepressants over th...</td>\n",
              "      <td>10.0</td>\n",
              "    </tr>\n",
              "    <tr>\n",
              "      <th>1</th>\n",
              "      <td>206473</td>\n",
              "      <td>\"My son has Crohn&amp;#039;s disease and has done ...</td>\n",
              "      <td>8.0</td>\n",
              "    </tr>\n",
              "    <tr>\n",
              "      <th>2</th>\n",
              "      <td>159672</td>\n",
              "      <td>\"Quick reduction of symptoms\"</td>\n",
              "      <td>9.0</td>\n",
              "    </tr>\n",
              "    <tr>\n",
              "      <th>3</th>\n",
              "      <td>39293</td>\n",
              "      <td>\"Contrave combines drugs that were used for al...</td>\n",
              "      <td>9.0</td>\n",
              "    </tr>\n",
              "    <tr>\n",
              "      <th>4</th>\n",
              "      <td>97768</td>\n",
              "      <td>\"I have been on this birth control for one cyc...</td>\n",
              "      <td>9.0</td>\n",
              "    </tr>\n",
              "  </tbody>\n",
              "</table>\n",
              "</div>\n",
              "      <button class=\"colab-df-convert\" onclick=\"convertToInteractive('df-155d0227-91dc-431f-9913-1f11e4b115e9')\"\n",
              "              title=\"Convert this dataframe to an interactive table.\"\n",
              "              style=\"display:none;\">\n",
              "        \n",
              "  <svg xmlns=\"http://www.w3.org/2000/svg\" height=\"24px\"viewBox=\"0 0 24 24\"\n",
              "       width=\"24px\">\n",
              "    <path d=\"M0 0h24v24H0V0z\" fill=\"none\"/>\n",
              "    <path d=\"M18.56 5.44l.94 2.06.94-2.06 2.06-.94-2.06-.94-.94-2.06-.94 2.06-2.06.94zm-11 1L8.5 8.5l.94-2.06 2.06-.94-2.06-.94L8.5 2.5l-.94 2.06-2.06.94zm10 10l.94 2.06.94-2.06 2.06-.94-2.06-.94-.94-2.06-.94 2.06-2.06.94z\"/><path d=\"M17.41 7.96l-1.37-1.37c-.4-.4-.92-.59-1.43-.59-.52 0-1.04.2-1.43.59L10.3 9.45l-7.72 7.72c-.78.78-.78 2.05 0 2.83L4 21.41c.39.39.9.59 1.41.59.51 0 1.02-.2 1.41-.59l7.78-7.78 2.81-2.81c.8-.78.8-2.07 0-2.86zM5.41 20L4 18.59l7.72-7.72 1.47 1.35L5.41 20z\"/>\n",
              "  </svg>\n",
              "      </button>\n",
              "      \n",
              "  <style>\n",
              "    .colab-df-container {\n",
              "      display:flex;\n",
              "      flex-wrap:wrap;\n",
              "      gap: 12px;\n",
              "    }\n",
              "\n",
              "    .colab-df-convert {\n",
              "      background-color: #E8F0FE;\n",
              "      border: none;\n",
              "      border-radius: 50%;\n",
              "      cursor: pointer;\n",
              "      display: none;\n",
              "      fill: #1967D2;\n",
              "      height: 32px;\n",
              "      padding: 0 0 0 0;\n",
              "      width: 32px;\n",
              "    }\n",
              "\n",
              "    .colab-df-convert:hover {\n",
              "      background-color: #E2EBFA;\n",
              "      box-shadow: 0px 1px 2px rgba(60, 64, 67, 0.3), 0px 1px 3px 1px rgba(60, 64, 67, 0.15);\n",
              "      fill: #174EA6;\n",
              "    }\n",
              "\n",
              "    [theme=dark] .colab-df-convert {\n",
              "      background-color: #3B4455;\n",
              "      fill: #D2E3FC;\n",
              "    }\n",
              "\n",
              "    [theme=dark] .colab-df-convert:hover {\n",
              "      background-color: #434B5C;\n",
              "      box-shadow: 0px 1px 3px 1px rgba(0, 0, 0, 0.15);\n",
              "      filter: drop-shadow(0px 1px 2px rgba(0, 0, 0, 0.3));\n",
              "      fill: #FFFFFF;\n",
              "    }\n",
              "  </style>\n",
              "\n",
              "      <script>\n",
              "        const buttonEl =\n",
              "          document.querySelector('#df-155d0227-91dc-431f-9913-1f11e4b115e9 button.colab-df-convert');\n",
              "        buttonEl.style.display =\n",
              "          google.colab.kernel.accessAllowed ? 'block' : 'none';\n",
              "\n",
              "        async function convertToInteractive(key) {\n",
              "          const element = document.querySelector('#df-155d0227-91dc-431f-9913-1f11e4b115e9');\n",
              "          const dataTable =\n",
              "            await google.colab.kernel.invokeFunction('convertToInteractive',\n",
              "                                                     [key], {});\n",
              "          if (!dataTable) return;\n",
              "\n",
              "          const docLinkHtml = 'Like what you see? Visit the ' +\n",
              "            '<a target=\"_blank\" href=https://colab.research.google.com/notebooks/data_table.ipynb>data table notebook</a>'\n",
              "            + ' to learn more about interactive tables.';\n",
              "          element.innerHTML = '';\n",
              "          dataTable['output_type'] = 'display_data';\n",
              "          await google.colab.output.renderOutput(dataTable, element);\n",
              "          const docLink = document.createElement('div');\n",
              "          docLink.innerHTML = docLinkHtml;\n",
              "          element.appendChild(docLink);\n",
              "        }\n",
              "      </script>\n",
              "    </div>\n",
              "  </div>\n",
              "  "
            ]
          },
          "metadata": {},
          "execution_count": 43
        }
      ]
    },
    {
      "cell_type": "markdown",
      "source": [
        "## Suppression des mots-vides et ajout d'une nouvelle colonne au dataframe"
      ],
      "metadata": {
        "id": "G5UsD7Uh3mSp"
      }
    },
    {
      "metadata": {
        "id": "d1jB8mku6JJg"
      },
      "cell_type": "code",
      "source": [
        "df2['cleanReview'] = df2['review'].apply(lambda x: ' '.join([item for item in x.split() if item not in stopwords]))     # remove stopwords from review"
      ],
      "execution_count": 44,
      "outputs": []
    },
    {
      "metadata": {
        "id": "pGIbJL6Q9CBy",
        "colab": {
          "base_uri": "https://localhost:8080/",
          "height": 206
        },
        "outputId": "049ce3ac-57a8-4cdb-8dd8-b0fcdffb10f6"
      },
      "cell_type": "code",
      "source": [
        "df2.head()"
      ],
      "execution_count": 45,
      "outputs": [
        {
          "output_type": "execute_result",
          "data": {
            "text/plain": [
              "       Id                                             review  rating  \\\n",
              "0  163740  \"I&#039;ve tried a few antidepressants over th...    10.0   \n",
              "1  206473  \"My son has Crohn&#039;s disease and has done ...     8.0   \n",
              "2  159672                      \"Quick reduction of symptoms\"     9.0   \n",
              "3   39293  \"Contrave combines drugs that were used for al...     9.0   \n",
              "4   97768  \"I have been on this birth control for one cyc...     9.0   \n",
              "\n",
              "                                         cleanReview  \n",
              "0  \"I&#039;ve tried antidepressants years (citalo...  \n",
              "1  \"My son Crohn&#039;s disease done well Asacol....  \n",
              "2                         \"Quick reduction symptoms\"  \n",
              "3  \"Contrave combines drugs used alcohol, smoking...  \n",
              "4  \"I birth control one cycle. After reading revi...  "
            ],
            "text/html": [
              "\n",
              "  <div id=\"df-0822df9e-ec2d-44af-84ec-2124f713bd31\">\n",
              "    <div class=\"colab-df-container\">\n",
              "      <div>\n",
              "<style scoped>\n",
              "    .dataframe tbody tr th:only-of-type {\n",
              "        vertical-align: middle;\n",
              "    }\n",
              "\n",
              "    .dataframe tbody tr th {\n",
              "        vertical-align: top;\n",
              "    }\n",
              "\n",
              "    .dataframe thead th {\n",
              "        text-align: right;\n",
              "    }\n",
              "</style>\n",
              "<table border=\"1\" class=\"dataframe\">\n",
              "  <thead>\n",
              "    <tr style=\"text-align: right;\">\n",
              "      <th></th>\n",
              "      <th>Id</th>\n",
              "      <th>review</th>\n",
              "      <th>rating</th>\n",
              "      <th>cleanReview</th>\n",
              "    </tr>\n",
              "  </thead>\n",
              "  <tbody>\n",
              "    <tr>\n",
              "      <th>0</th>\n",
              "      <td>163740</td>\n",
              "      <td>\"I&amp;#039;ve tried a few antidepressants over th...</td>\n",
              "      <td>10.0</td>\n",
              "      <td>\"I&amp;#039;ve tried antidepressants years (citalo...</td>\n",
              "    </tr>\n",
              "    <tr>\n",
              "      <th>1</th>\n",
              "      <td>206473</td>\n",
              "      <td>\"My son has Crohn&amp;#039;s disease and has done ...</td>\n",
              "      <td>8.0</td>\n",
              "      <td>\"My son Crohn&amp;#039;s disease done well Asacol....</td>\n",
              "    </tr>\n",
              "    <tr>\n",
              "      <th>2</th>\n",
              "      <td>159672</td>\n",
              "      <td>\"Quick reduction of symptoms\"</td>\n",
              "      <td>9.0</td>\n",
              "      <td>\"Quick reduction symptoms\"</td>\n",
              "    </tr>\n",
              "    <tr>\n",
              "      <th>3</th>\n",
              "      <td>39293</td>\n",
              "      <td>\"Contrave combines drugs that were used for al...</td>\n",
              "      <td>9.0</td>\n",
              "      <td>\"Contrave combines drugs used alcohol, smoking...</td>\n",
              "    </tr>\n",
              "    <tr>\n",
              "      <th>4</th>\n",
              "      <td>97768</td>\n",
              "      <td>\"I have been on this birth control for one cyc...</td>\n",
              "      <td>9.0</td>\n",
              "      <td>\"I birth control one cycle. After reading revi...</td>\n",
              "    </tr>\n",
              "  </tbody>\n",
              "</table>\n",
              "</div>\n",
              "      <button class=\"colab-df-convert\" onclick=\"convertToInteractive('df-0822df9e-ec2d-44af-84ec-2124f713bd31')\"\n",
              "              title=\"Convert this dataframe to an interactive table.\"\n",
              "              style=\"display:none;\">\n",
              "        \n",
              "  <svg xmlns=\"http://www.w3.org/2000/svg\" height=\"24px\"viewBox=\"0 0 24 24\"\n",
              "       width=\"24px\">\n",
              "    <path d=\"M0 0h24v24H0V0z\" fill=\"none\"/>\n",
              "    <path d=\"M18.56 5.44l.94 2.06.94-2.06 2.06-.94-2.06-.94-.94-2.06-.94 2.06-2.06.94zm-11 1L8.5 8.5l.94-2.06 2.06-.94-2.06-.94L8.5 2.5l-.94 2.06-2.06.94zm10 10l.94 2.06.94-2.06 2.06-.94-2.06-.94-.94-2.06-.94 2.06-2.06.94z\"/><path d=\"M17.41 7.96l-1.37-1.37c-.4-.4-.92-.59-1.43-.59-.52 0-1.04.2-1.43.59L10.3 9.45l-7.72 7.72c-.78.78-.78 2.05 0 2.83L4 21.41c.39.39.9.59 1.41.59.51 0 1.02-.2 1.41-.59l7.78-7.78 2.81-2.81c.8-.78.8-2.07 0-2.86zM5.41 20L4 18.59l7.72-7.72 1.47 1.35L5.41 20z\"/>\n",
              "  </svg>\n",
              "      </button>\n",
              "      \n",
              "  <style>\n",
              "    .colab-df-container {\n",
              "      display:flex;\n",
              "      flex-wrap:wrap;\n",
              "      gap: 12px;\n",
              "    }\n",
              "\n",
              "    .colab-df-convert {\n",
              "      background-color: #E8F0FE;\n",
              "      border: none;\n",
              "      border-radius: 50%;\n",
              "      cursor: pointer;\n",
              "      display: none;\n",
              "      fill: #1967D2;\n",
              "      height: 32px;\n",
              "      padding: 0 0 0 0;\n",
              "      width: 32px;\n",
              "    }\n",
              "\n",
              "    .colab-df-convert:hover {\n",
              "      background-color: #E2EBFA;\n",
              "      box-shadow: 0px 1px 2px rgba(60, 64, 67, 0.3), 0px 1px 3px 1px rgba(60, 64, 67, 0.15);\n",
              "      fill: #174EA6;\n",
              "    }\n",
              "\n",
              "    [theme=dark] .colab-df-convert {\n",
              "      background-color: #3B4455;\n",
              "      fill: #D2E3FC;\n",
              "    }\n",
              "\n",
              "    [theme=dark] .colab-df-convert:hover {\n",
              "      background-color: #434B5C;\n",
              "      box-shadow: 0px 1px 3px 1px rgba(0, 0, 0, 0.15);\n",
              "      filter: drop-shadow(0px 1px 2px rgba(0, 0, 0, 0.3));\n",
              "      fill: #FFFFFF;\n",
              "    }\n",
              "  </style>\n",
              "\n",
              "      <script>\n",
              "        const buttonEl =\n",
              "          document.querySelector('#df-0822df9e-ec2d-44af-84ec-2124f713bd31 button.colab-df-convert');\n",
              "        buttonEl.style.display =\n",
              "          google.colab.kernel.accessAllowed ? 'block' : 'none';\n",
              "\n",
              "        async function convertToInteractive(key) {\n",
              "          const element = document.querySelector('#df-0822df9e-ec2d-44af-84ec-2124f713bd31');\n",
              "          const dataTable =\n",
              "            await google.colab.kernel.invokeFunction('convertToInteractive',\n",
              "                                                     [key], {});\n",
              "          if (!dataTable) return;\n",
              "\n",
              "          const docLinkHtml = 'Like what you see? Visit the ' +\n",
              "            '<a target=\"_blank\" href=https://colab.research.google.com/notebooks/data_table.ipynb>data table notebook</a>'\n",
              "            + ' to learn more about interactive tables.';\n",
              "          element.innerHTML = '';\n",
              "          dataTable['output_type'] = 'display_data';\n",
              "          await google.colab.output.renderOutput(dataTable, element);\n",
              "          const docLink = document.createElement('div');\n",
              "          docLink.innerHTML = docLinkHtml;\n",
              "          element.appendChild(docLink);\n",
              "        }\n",
              "      </script>\n",
              "    </div>\n",
              "  </div>\n",
              "  "
            ]
          },
          "metadata": {},
          "execution_count": 45
        }
      ]
    },
    {
      "cell_type": "markdown",
      "source": [
        "## Chargement de l'analyseur de sentiments"
      ],
      "metadata": {
        "id": "epuYXbxv4jOR"
      }
    },
    {
      "metadata": {
        "id": "BCsimWTo9VU0"
      },
      "cell_type": "code",
      "source": [
        "import vaderSentiment\n",
        "from vaderSentiment.vaderSentiment import SentimentIntensityAnalyzer\n",
        "analyzer = SentimentIntensityAnalyzer()"
      ],
      "execution_count": 46,
      "outputs": []
    },
    {
      "cell_type": "markdown",
      "source": [
        "## Ajout d'une colonne des scores de polarité au dataframe"
      ],
      "metadata": {
        "id": "fBOaPcSX4odk"
      }
    },
    {
      "metadata": {
        "id": "2AMeTr8y979V"
      },
      "cell_type": "code",
      "source": [
        "df2['vaderReviewScore'] = df2['cleanReview'].apply(lambda x: analyzer.polarity_scores(x)['compound'])"
      ],
      "execution_count": 47,
      "outputs": []
    },
    {
      "metadata": {
        "id": "jzdNAeXf97VQ",
        "colab": {
          "base_uri": "https://localhost:8080/",
          "height": 206
        },
        "outputId": "9ccb4605-32c9-4581-82b9-31a984c6d091"
      },
      "cell_type": "code",
      "source": [
        "df2.head()"
      ],
      "execution_count": 48,
      "outputs": [
        {
          "output_type": "execute_result",
          "data": {
            "text/plain": [
              "       Id                                             review  rating  \\\n",
              "0  163740  \"I&#039;ve tried a few antidepressants over th...    10.0   \n",
              "1  206473  \"My son has Crohn&#039;s disease and has done ...     8.0   \n",
              "2  159672                      \"Quick reduction of symptoms\"     9.0   \n",
              "3   39293  \"Contrave combines drugs that were used for al...     9.0   \n",
              "4   97768  \"I have been on this birth control for one cyc...     9.0   \n",
              "\n",
              "                                         cleanReview  vaderReviewScore  \n",
              "0  \"I&#039;ve tried antidepressants years (citalo...            0.7429  \n",
              "1  \"My son Crohn&#039;s disease done well Asacol....            0.4767  \n",
              "2                         \"Quick reduction symptoms\"            0.0000  \n",
              "3  \"Contrave combines drugs used alcohol, smoking...            0.8115  \n",
              "4  \"I birth control one cycle. After reading revi...            0.9617  "
            ],
            "text/html": [
              "\n",
              "  <div id=\"df-08f606b5-76c8-46bb-be3f-59bc3aa613de\">\n",
              "    <div class=\"colab-df-container\">\n",
              "      <div>\n",
              "<style scoped>\n",
              "    .dataframe tbody tr th:only-of-type {\n",
              "        vertical-align: middle;\n",
              "    }\n",
              "\n",
              "    .dataframe tbody tr th {\n",
              "        vertical-align: top;\n",
              "    }\n",
              "\n",
              "    .dataframe thead th {\n",
              "        text-align: right;\n",
              "    }\n",
              "</style>\n",
              "<table border=\"1\" class=\"dataframe\">\n",
              "  <thead>\n",
              "    <tr style=\"text-align: right;\">\n",
              "      <th></th>\n",
              "      <th>Id</th>\n",
              "      <th>review</th>\n",
              "      <th>rating</th>\n",
              "      <th>cleanReview</th>\n",
              "      <th>vaderReviewScore</th>\n",
              "    </tr>\n",
              "  </thead>\n",
              "  <tbody>\n",
              "    <tr>\n",
              "      <th>0</th>\n",
              "      <td>163740</td>\n",
              "      <td>\"I&amp;#039;ve tried a few antidepressants over th...</td>\n",
              "      <td>10.0</td>\n",
              "      <td>\"I&amp;#039;ve tried antidepressants years (citalo...</td>\n",
              "      <td>0.7429</td>\n",
              "    </tr>\n",
              "    <tr>\n",
              "      <th>1</th>\n",
              "      <td>206473</td>\n",
              "      <td>\"My son has Crohn&amp;#039;s disease and has done ...</td>\n",
              "      <td>8.0</td>\n",
              "      <td>\"My son Crohn&amp;#039;s disease done well Asacol....</td>\n",
              "      <td>0.4767</td>\n",
              "    </tr>\n",
              "    <tr>\n",
              "      <th>2</th>\n",
              "      <td>159672</td>\n",
              "      <td>\"Quick reduction of symptoms\"</td>\n",
              "      <td>9.0</td>\n",
              "      <td>\"Quick reduction symptoms\"</td>\n",
              "      <td>0.0000</td>\n",
              "    </tr>\n",
              "    <tr>\n",
              "      <th>3</th>\n",
              "      <td>39293</td>\n",
              "      <td>\"Contrave combines drugs that were used for al...</td>\n",
              "      <td>9.0</td>\n",
              "      <td>\"Contrave combines drugs used alcohol, smoking...</td>\n",
              "      <td>0.8115</td>\n",
              "    </tr>\n",
              "    <tr>\n",
              "      <th>4</th>\n",
              "      <td>97768</td>\n",
              "      <td>\"I have been on this birth control for one cyc...</td>\n",
              "      <td>9.0</td>\n",
              "      <td>\"I birth control one cycle. After reading revi...</td>\n",
              "      <td>0.9617</td>\n",
              "    </tr>\n",
              "  </tbody>\n",
              "</table>\n",
              "</div>\n",
              "      <button class=\"colab-df-convert\" onclick=\"convertToInteractive('df-08f606b5-76c8-46bb-be3f-59bc3aa613de')\"\n",
              "              title=\"Convert this dataframe to an interactive table.\"\n",
              "              style=\"display:none;\">\n",
              "        \n",
              "  <svg xmlns=\"http://www.w3.org/2000/svg\" height=\"24px\"viewBox=\"0 0 24 24\"\n",
              "       width=\"24px\">\n",
              "    <path d=\"M0 0h24v24H0V0z\" fill=\"none\"/>\n",
              "    <path d=\"M18.56 5.44l.94 2.06.94-2.06 2.06-.94-2.06-.94-.94-2.06-.94 2.06-2.06.94zm-11 1L8.5 8.5l.94-2.06 2.06-.94-2.06-.94L8.5 2.5l-.94 2.06-2.06.94zm10 10l.94 2.06.94-2.06 2.06-.94-2.06-.94-.94-2.06-.94 2.06-2.06.94z\"/><path d=\"M17.41 7.96l-1.37-1.37c-.4-.4-.92-.59-1.43-.59-.52 0-1.04.2-1.43.59L10.3 9.45l-7.72 7.72c-.78.78-.78 2.05 0 2.83L4 21.41c.39.39.9.59 1.41.59.51 0 1.02-.2 1.41-.59l7.78-7.78 2.81-2.81c.8-.78.8-2.07 0-2.86zM5.41 20L4 18.59l7.72-7.72 1.47 1.35L5.41 20z\"/>\n",
              "  </svg>\n",
              "      </button>\n",
              "      \n",
              "  <style>\n",
              "    .colab-df-container {\n",
              "      display:flex;\n",
              "      flex-wrap:wrap;\n",
              "      gap: 12px;\n",
              "    }\n",
              "\n",
              "    .colab-df-convert {\n",
              "      background-color: #E8F0FE;\n",
              "      border: none;\n",
              "      border-radius: 50%;\n",
              "      cursor: pointer;\n",
              "      display: none;\n",
              "      fill: #1967D2;\n",
              "      height: 32px;\n",
              "      padding: 0 0 0 0;\n",
              "      width: 32px;\n",
              "    }\n",
              "\n",
              "    .colab-df-convert:hover {\n",
              "      background-color: #E2EBFA;\n",
              "      box-shadow: 0px 1px 2px rgba(60, 64, 67, 0.3), 0px 1px 3px 1px rgba(60, 64, 67, 0.15);\n",
              "      fill: #174EA6;\n",
              "    }\n",
              "\n",
              "    [theme=dark] .colab-df-convert {\n",
              "      background-color: #3B4455;\n",
              "      fill: #D2E3FC;\n",
              "    }\n",
              "\n",
              "    [theme=dark] .colab-df-convert:hover {\n",
              "      background-color: #434B5C;\n",
              "      box-shadow: 0px 1px 3px 1px rgba(0, 0, 0, 0.15);\n",
              "      filter: drop-shadow(0px 1px 2px rgba(0, 0, 0, 0.3));\n",
              "      fill: #FFFFFF;\n",
              "    }\n",
              "  </style>\n",
              "\n",
              "      <script>\n",
              "        const buttonEl =\n",
              "          document.querySelector('#df-08f606b5-76c8-46bb-be3f-59bc3aa613de button.colab-df-convert');\n",
              "        buttonEl.style.display =\n",
              "          google.colab.kernel.accessAllowed ? 'block' : 'none';\n",
              "\n",
              "        async function convertToInteractive(key) {\n",
              "          const element = document.querySelector('#df-08f606b5-76c8-46bb-be3f-59bc3aa613de');\n",
              "          const dataTable =\n",
              "            await google.colab.kernel.invokeFunction('convertToInteractive',\n",
              "                                                     [key], {});\n",
              "          if (!dataTable) return;\n",
              "\n",
              "          const docLinkHtml = 'Like what you see? Visit the ' +\n",
              "            '<a target=\"_blank\" href=https://colab.research.google.com/notebooks/data_table.ipynb>data table notebook</a>'\n",
              "            + ' to learn more about interactive tables.';\n",
              "          element.innerHTML = '';\n",
              "          dataTable['output_type'] = 'display_data';\n",
              "          await google.colab.output.renderOutput(dataTable, element);\n",
              "          const docLink = document.createElement('div');\n",
              "          docLink.innerHTML = docLinkHtml;\n",
              "          element.appendChild(docLink);\n",
              "        }\n",
              "      </script>\n",
              "    </div>\n",
              "  </div>\n",
              "  "
            ]
          },
          "metadata": {},
          "execution_count": 48
        }
      ]
    },
    {
      "cell_type": "markdown",
      "source": [
        "## Nombre de sentiments (positif, neutre et négatif)"
      ],
      "metadata": {
        "id": "o9x9mkum4w-f"
      }
    },
    {
      "metadata": {
        "id": "iqbAvb_9DlK4"
      },
      "cell_type": "code",
      "source": [
        "positive_num = len(df2[df2['vaderReviewScore'] >= 0.05])\n",
        "neutral_num = len(df2[(df2['vaderReviewScore'] >- 0.05) & (df2['vaderReviewScore'] < 0.05)])\n",
        "negative_num = len(df2[df2['vaderReviewScore'] <= -0.05])"
      ],
      "execution_count": 49,
      "outputs": []
    },
    {
      "metadata": {
        "id": "lPU0WtsMCaO0",
        "colab": {
          "base_uri": "https://localhost:8080/"
        },
        "outputId": "79205568-ae64-4e1d-f881-40c8c9115356"
      },
      "cell_type": "code",
      "source": [
        "positive_num,neutral_num, negative_num"
      ],
      "execution_count": 50,
      "outputs": [
        {
          "output_type": "execute_result",
          "data": {
            "text/plain": [
              "(106198, 9035, 99830)"
            ]
          },
          "metadata": {},
          "execution_count": 50
        }
      ]
    },
    {
      "cell_type": "markdown",
      "source": [
        "## Conversion du score dans la colonne \"vaderReviewScore\" à :\n",
        "si score >= 0.5 alors il est codé par 2 (positif) \\\\\n",
        "sinon si score <= -0.5 alors il est codé par 1 (négatif)\\\\\n",
        "sinon il est codé par 0 (neutre)"
      ],
      "metadata": {
        "id": "I4xkGQeu4-E9"
      }
    },
    {
      "metadata": {
        "id": "wzu-IpbqECEE"
      },
      "cell_type": "code",
      "source": [
        "df2['vaderSentiment']= df2['vaderReviewScore'].map(lambda x:int(2) if x>=0.05 else int(1) if x<=-0.05 else int(0) )"
      ],
      "execution_count": 51,
      "outputs": []
    },
    {
      "metadata": {
        "id": "GVgCz1u1DBTa",
        "colab": {
          "base_uri": "https://localhost:8080/"
        },
        "outputId": "34013c63-b40c-445d-b04c-fe9ba91a538a"
      },
      "cell_type": "code",
      "source": [
        "df2['vaderSentiment'].value_counts()"
      ],
      "execution_count": 52,
      "outputs": [
        {
          "output_type": "execute_result",
          "data": {
            "text/plain": [
              "2    106198\n",
              "1     99830\n",
              "0      9035\n",
              "Name: vaderSentiment, dtype: int64"
            ]
          },
          "metadata": {},
          "execution_count": 52
        }
      ]
    },
    {
      "cell_type": "markdown",
      "source": [
        "la somme donne le nombre d'observations (lignes) du dataset"
      ],
      "metadata": {
        "id": "NCLCTmWg5gHg"
      }
    },
    {
      "metadata": {
        "id": "iA_U41nMzrqT",
        "colab": {
          "base_uri": "https://localhost:8080/"
        },
        "outputId": "485f25b5-6282-426c-f359-e810427ce21d"
      },
      "cell_type": "code",
      "source": [
        "Total_vaderSentiment = positive_num + neutral_num + negative_num\n",
        "Total_vaderSentiment"
      ],
      "execution_count": 53,
      "outputs": [
        {
          "output_type": "execute_result",
          "data": {
            "text/plain": [
              "215063"
            ]
          },
          "metadata": {},
          "execution_count": 53
        }
      ]
    },
    {
      "cell_type": "markdown",
      "source": [
        "## Conversion du score dans la colonne \"vaderReviewScore\" :\n",
        "si score >= 0.5 alors il est codé 'positive' \\\\\n",
        "sinon si score <= -0.5 alors il est codé 'negative' \\\\\n",
        "sinon si -0.5 < score < 0.5 alors il est codé par 'neutral'"
      ],
      "metadata": {
        "id": "lvVyYG835p9R"
      }
    },
    {
      "metadata": {
        "id": "7LPrb4acETjg"
      },
      "cell_type": "code",
      "source": [
        "df2.loc[df2['vaderReviewScore'] >= 0.05,\"vaderSentimentLabel\"] = \"positive\"\n",
        "df2.loc[(df2['vaderReviewScore'] > -0.05) & (df2['vaderReviewScore'] < 0.05),\"vaderSentimentLabel\"] = \"neutral\"\n",
        "df2.loc[df2['vaderReviewScore'] <=-0.05,\"vaderSentimentLabel\"] = \"negative\""
      ],
      "execution_count": 54,
      "outputs": []
    },
    {
      "metadata": {
        "id": "sE4paKdJKHGN",
        "colab": {
          "base_uri": "https://localhost:8080/"
        },
        "outputId": "e286c9f5-8bf9-4302-fcec-9f2958835045"
      },
      "cell_type": "code",
      "source": [
        "df2.shape"
      ],
      "execution_count": 55,
      "outputs": [
        {
          "output_type": "execute_result",
          "data": {
            "text/plain": [
              "(215063, 7)"
            ]
          },
          "metadata": {},
          "execution_count": 55
        }
      ]
    },
    {
      "metadata": {
        "id": "Xah2qVCtJ-xt",
        "colab": {
          "base_uri": "https://localhost:8080/",
          "height": 320
        },
        "outputId": "7f7af3bc-32c7-497e-da55-a1cf2a764296"
      },
      "cell_type": "code",
      "source": [
        "df2.head()"
      ],
      "execution_count": 56,
      "outputs": [
        {
          "output_type": "execute_result",
          "data": {
            "text/plain": [
              "       Id                                             review  rating  \\\n",
              "0  163740  \"I&#039;ve tried a few antidepressants over th...    10.0   \n",
              "1  206473  \"My son has Crohn&#039;s disease and has done ...     8.0   \n",
              "2  159672                      \"Quick reduction of symptoms\"     9.0   \n",
              "3   39293  \"Contrave combines drugs that were used for al...     9.0   \n",
              "4   97768  \"I have been on this birth control for one cyc...     9.0   \n",
              "\n",
              "                                         cleanReview  vaderReviewScore  \\\n",
              "0  \"I&#039;ve tried antidepressants years (citalo...            0.7429   \n",
              "1  \"My son Crohn&#039;s disease done well Asacol....            0.4767   \n",
              "2                         \"Quick reduction symptoms\"            0.0000   \n",
              "3  \"Contrave combines drugs used alcohol, smoking...            0.8115   \n",
              "4  \"I birth control one cycle. After reading revi...            0.9617   \n",
              "\n",
              "   vaderSentiment vaderSentimentLabel  \n",
              "0               2            positive  \n",
              "1               2            positive  \n",
              "2               0             neutral  \n",
              "3               2            positive  \n",
              "4               2            positive  "
            ],
            "text/html": [
              "\n",
              "  <div id=\"df-4fe8015b-3fc4-4142-a1ce-f42352d6d59b\">\n",
              "    <div class=\"colab-df-container\">\n",
              "      <div>\n",
              "<style scoped>\n",
              "    .dataframe tbody tr th:only-of-type {\n",
              "        vertical-align: middle;\n",
              "    }\n",
              "\n",
              "    .dataframe tbody tr th {\n",
              "        vertical-align: top;\n",
              "    }\n",
              "\n",
              "    .dataframe thead th {\n",
              "        text-align: right;\n",
              "    }\n",
              "</style>\n",
              "<table border=\"1\" class=\"dataframe\">\n",
              "  <thead>\n",
              "    <tr style=\"text-align: right;\">\n",
              "      <th></th>\n",
              "      <th>Id</th>\n",
              "      <th>review</th>\n",
              "      <th>rating</th>\n",
              "      <th>cleanReview</th>\n",
              "      <th>vaderReviewScore</th>\n",
              "      <th>vaderSentiment</th>\n",
              "      <th>vaderSentimentLabel</th>\n",
              "    </tr>\n",
              "  </thead>\n",
              "  <tbody>\n",
              "    <tr>\n",
              "      <th>0</th>\n",
              "      <td>163740</td>\n",
              "      <td>\"I&amp;#039;ve tried a few antidepressants over th...</td>\n",
              "      <td>10.0</td>\n",
              "      <td>\"I&amp;#039;ve tried antidepressants years (citalo...</td>\n",
              "      <td>0.7429</td>\n",
              "      <td>2</td>\n",
              "      <td>positive</td>\n",
              "    </tr>\n",
              "    <tr>\n",
              "      <th>1</th>\n",
              "      <td>206473</td>\n",
              "      <td>\"My son has Crohn&amp;#039;s disease and has done ...</td>\n",
              "      <td>8.0</td>\n",
              "      <td>\"My son Crohn&amp;#039;s disease done well Asacol....</td>\n",
              "      <td>0.4767</td>\n",
              "      <td>2</td>\n",
              "      <td>positive</td>\n",
              "    </tr>\n",
              "    <tr>\n",
              "      <th>2</th>\n",
              "      <td>159672</td>\n",
              "      <td>\"Quick reduction of symptoms\"</td>\n",
              "      <td>9.0</td>\n",
              "      <td>\"Quick reduction symptoms\"</td>\n",
              "      <td>0.0000</td>\n",
              "      <td>0</td>\n",
              "      <td>neutral</td>\n",
              "    </tr>\n",
              "    <tr>\n",
              "      <th>3</th>\n",
              "      <td>39293</td>\n",
              "      <td>\"Contrave combines drugs that were used for al...</td>\n",
              "      <td>9.0</td>\n",
              "      <td>\"Contrave combines drugs used alcohol, smoking...</td>\n",
              "      <td>0.8115</td>\n",
              "      <td>2</td>\n",
              "      <td>positive</td>\n",
              "    </tr>\n",
              "    <tr>\n",
              "      <th>4</th>\n",
              "      <td>97768</td>\n",
              "      <td>\"I have been on this birth control for one cyc...</td>\n",
              "      <td>9.0</td>\n",
              "      <td>\"I birth control one cycle. After reading revi...</td>\n",
              "      <td>0.9617</td>\n",
              "      <td>2</td>\n",
              "      <td>positive</td>\n",
              "    </tr>\n",
              "  </tbody>\n",
              "</table>\n",
              "</div>\n",
              "      <button class=\"colab-df-convert\" onclick=\"convertToInteractive('df-4fe8015b-3fc4-4142-a1ce-f42352d6d59b')\"\n",
              "              title=\"Convert this dataframe to an interactive table.\"\n",
              "              style=\"display:none;\">\n",
              "        \n",
              "  <svg xmlns=\"http://www.w3.org/2000/svg\" height=\"24px\"viewBox=\"0 0 24 24\"\n",
              "       width=\"24px\">\n",
              "    <path d=\"M0 0h24v24H0V0z\" fill=\"none\"/>\n",
              "    <path d=\"M18.56 5.44l.94 2.06.94-2.06 2.06-.94-2.06-.94-.94-2.06-.94 2.06-2.06.94zm-11 1L8.5 8.5l.94-2.06 2.06-.94-2.06-.94L8.5 2.5l-.94 2.06-2.06.94zm10 10l.94 2.06.94-2.06 2.06-.94-2.06-.94-.94-2.06-.94 2.06-2.06.94z\"/><path d=\"M17.41 7.96l-1.37-1.37c-.4-.4-.92-.59-1.43-.59-.52 0-1.04.2-1.43.59L10.3 9.45l-7.72 7.72c-.78.78-.78 2.05 0 2.83L4 21.41c.39.39.9.59 1.41.59.51 0 1.02-.2 1.41-.59l7.78-7.78 2.81-2.81c.8-.78.8-2.07 0-2.86zM5.41 20L4 18.59l7.72-7.72 1.47 1.35L5.41 20z\"/>\n",
              "  </svg>\n",
              "      </button>\n",
              "      \n",
              "  <style>\n",
              "    .colab-df-container {\n",
              "      display:flex;\n",
              "      flex-wrap:wrap;\n",
              "      gap: 12px;\n",
              "    }\n",
              "\n",
              "    .colab-df-convert {\n",
              "      background-color: #E8F0FE;\n",
              "      border: none;\n",
              "      border-radius: 50%;\n",
              "      cursor: pointer;\n",
              "      display: none;\n",
              "      fill: #1967D2;\n",
              "      height: 32px;\n",
              "      padding: 0 0 0 0;\n",
              "      width: 32px;\n",
              "    }\n",
              "\n",
              "    .colab-df-convert:hover {\n",
              "      background-color: #E2EBFA;\n",
              "      box-shadow: 0px 1px 2px rgba(60, 64, 67, 0.3), 0px 1px 3px 1px rgba(60, 64, 67, 0.15);\n",
              "      fill: #174EA6;\n",
              "    }\n",
              "\n",
              "    [theme=dark] .colab-df-convert {\n",
              "      background-color: #3B4455;\n",
              "      fill: #D2E3FC;\n",
              "    }\n",
              "\n",
              "    [theme=dark] .colab-df-convert:hover {\n",
              "      background-color: #434B5C;\n",
              "      box-shadow: 0px 1px 3px 1px rgba(0, 0, 0, 0.15);\n",
              "      filter: drop-shadow(0px 1px 2px rgba(0, 0, 0, 0.3));\n",
              "      fill: #FFFFFF;\n",
              "    }\n",
              "  </style>\n",
              "\n",
              "      <script>\n",
              "        const buttonEl =\n",
              "          document.querySelector('#df-4fe8015b-3fc4-4142-a1ce-f42352d6d59b button.colab-df-convert');\n",
              "        buttonEl.style.display =\n",
              "          google.colab.kernel.accessAllowed ? 'block' : 'none';\n",
              "\n",
              "        async function convertToInteractive(key) {\n",
              "          const element = document.querySelector('#df-4fe8015b-3fc4-4142-a1ce-f42352d6d59b');\n",
              "          const dataTable =\n",
              "            await google.colab.kernel.invokeFunction('convertToInteractive',\n",
              "                                                     [key], {});\n",
              "          if (!dataTable) return;\n",
              "\n",
              "          const docLinkHtml = 'Like what you see? Visit the ' +\n",
              "            '<a target=\"_blank\" href=https://colab.research.google.com/notebooks/data_table.ipynb>data table notebook</a>'\n",
              "            + ' to learn more about interactive tables.';\n",
              "          element.innerHTML = '';\n",
              "          dataTable['output_type'] = 'display_data';\n",
              "          await google.colab.output.renderOutput(dataTable, element);\n",
              "          const docLink = document.createElement('div');\n",
              "          docLink.innerHTML = docLinkHtml;\n",
              "          element.appendChild(docLink);\n",
              "        }\n",
              "      </script>\n",
              "    </div>\n",
              "  </div>\n",
              "  "
            ]
          },
          "metadata": {},
          "execution_count": 56
        }
      ]
    },
    {
      "cell_type": "markdown",
      "source": [
        "## Sentiment selon la note du médicament (\"colonne \"rating\")"
      ],
      "metadata": {
        "id": "Gu23RsmK6Gw7"
      }
    },
    {
      "metadata": {
        "id": "M1zxqtK8LOYV"
      },
      "cell_type": "code",
      "source": [
        "positive_rating = len(df2[df2['rating'] >=7.0])\n",
        "neutral_rating = len(df2[(df2['rating'] >=4) & (df2['rating']<7)])\n",
        "negative_rating = len(df2[df2['rating']<=3])"
      ],
      "execution_count": 57,
      "outputs": []
    },
    {
      "metadata": {
        "id": "AbvSCHc0Nq_U",
        "colab": {
          "base_uri": "https://localhost:8080/"
        },
        "outputId": "985cd9ed-bf03-4964-dddd-c6a80dc84e57"
      },
      "cell_type": "code",
      "source": [
        "positive_rating,neutral_rating,negative_rating"
      ],
      "execution_count": 58,
      "outputs": [
        {
          "output_type": "execute_result",
          "data": {
            "text/plain": [
              "(142306, 25856, 46901)"
            ]
          },
          "metadata": {},
          "execution_count": 58
        }
      ]
    },
    {
      "metadata": {
        "id": "XcEYgG1HOAdQ",
        "colab": {
          "base_uri": "https://localhost:8080/"
        },
        "outputId": "dd8cff51-276b-4709-b68e-2467dbf157af"
      },
      "cell_type": "code",
      "source": [
        "Total_rating = positive_rating+neutral_rating+negative_rating\n",
        "Total_rating"
      ],
      "execution_count": 59,
      "outputs": [
        {
          "output_type": "execute_result",
          "data": {
            "text/plain": [
              "215063"
            ]
          },
          "metadata": {},
          "execution_count": 59
        }
      ]
    },
    {
      "cell_type": "markdown",
      "source": [
        "## Sentiment selon la note du médicament (\"colonne \"rating\") :\n",
        "si rating >= 7 alors il est codé '2' \\\\\n",
        "sinon si rating <= 3 alors il est codé '1' \\\\\n",
        "sinon sinon il est codé par '0'"
      ],
      "metadata": {
        "id": "HHkWMQeS6kWM"
      }
    },
    {
      "metadata": {
        "id": "y57v1FgaOyuN"
      },
      "cell_type": "code",
      "source": [
        "df2['ratingSentiment']= df2['rating'].map(lambda x:int(2) if x>=7 else int(1) if x<=3 else int(0) )"
      ],
      "execution_count": 60,
      "outputs": []
    },
    {
      "metadata": {
        "id": "Db4frxHQtKYk",
        "colab": {
          "base_uri": "https://localhost:8080/"
        },
        "outputId": "963be90f-695d-45f1-fe32-da8cc8911a02"
      },
      "cell_type": "code",
      "source": [
        "df2['ratingSentiment'].value_counts()"
      ],
      "execution_count": 61,
      "outputs": [
        {
          "output_type": "execute_result",
          "data": {
            "text/plain": [
              "2    142306\n",
              "1     46901\n",
              "0     25856\n",
              "Name: ratingSentiment, dtype: int64"
            ]
          },
          "metadata": {},
          "execution_count": 61
        }
      ]
    },
    {
      "metadata": {
        "id": "Za4Z3TcP0aRU",
        "colab": {
          "base_uri": "https://localhost:8080/",
          "height": 320
        },
        "outputId": "105c55c1-fc07-40be-8da2-98805734e2a0"
      },
      "cell_type": "code",
      "source": [
        "df2.head()"
      ],
      "execution_count": 62,
      "outputs": [
        {
          "output_type": "execute_result",
          "data": {
            "text/plain": [
              "       Id                                             review  rating  \\\n",
              "0  163740  \"I&#039;ve tried a few antidepressants over th...    10.0   \n",
              "1  206473  \"My son has Crohn&#039;s disease and has done ...     8.0   \n",
              "2  159672                      \"Quick reduction of symptoms\"     9.0   \n",
              "3   39293  \"Contrave combines drugs that were used for al...     9.0   \n",
              "4   97768  \"I have been on this birth control for one cyc...     9.0   \n",
              "\n",
              "                                         cleanReview  vaderReviewScore  \\\n",
              "0  \"I&#039;ve tried antidepressants years (citalo...            0.7429   \n",
              "1  \"My son Crohn&#039;s disease done well Asacol....            0.4767   \n",
              "2                         \"Quick reduction symptoms\"            0.0000   \n",
              "3  \"Contrave combines drugs used alcohol, smoking...            0.8115   \n",
              "4  \"I birth control one cycle. After reading revi...            0.9617   \n",
              "\n",
              "   vaderSentiment vaderSentimentLabel  ratingSentiment  \n",
              "0               2            positive                2  \n",
              "1               2            positive                2  \n",
              "2               0             neutral                2  \n",
              "3               2            positive                2  \n",
              "4               2            positive                2  "
            ],
            "text/html": [
              "\n",
              "  <div id=\"df-e1a320a2-5ad0-4f1a-8269-bc951a8ad39a\">\n",
              "    <div class=\"colab-df-container\">\n",
              "      <div>\n",
              "<style scoped>\n",
              "    .dataframe tbody tr th:only-of-type {\n",
              "        vertical-align: middle;\n",
              "    }\n",
              "\n",
              "    .dataframe tbody tr th {\n",
              "        vertical-align: top;\n",
              "    }\n",
              "\n",
              "    .dataframe thead th {\n",
              "        text-align: right;\n",
              "    }\n",
              "</style>\n",
              "<table border=\"1\" class=\"dataframe\">\n",
              "  <thead>\n",
              "    <tr style=\"text-align: right;\">\n",
              "      <th></th>\n",
              "      <th>Id</th>\n",
              "      <th>review</th>\n",
              "      <th>rating</th>\n",
              "      <th>cleanReview</th>\n",
              "      <th>vaderReviewScore</th>\n",
              "      <th>vaderSentiment</th>\n",
              "      <th>vaderSentimentLabel</th>\n",
              "      <th>ratingSentiment</th>\n",
              "    </tr>\n",
              "  </thead>\n",
              "  <tbody>\n",
              "    <tr>\n",
              "      <th>0</th>\n",
              "      <td>163740</td>\n",
              "      <td>\"I&amp;#039;ve tried a few antidepressants over th...</td>\n",
              "      <td>10.0</td>\n",
              "      <td>\"I&amp;#039;ve tried antidepressants years (citalo...</td>\n",
              "      <td>0.7429</td>\n",
              "      <td>2</td>\n",
              "      <td>positive</td>\n",
              "      <td>2</td>\n",
              "    </tr>\n",
              "    <tr>\n",
              "      <th>1</th>\n",
              "      <td>206473</td>\n",
              "      <td>\"My son has Crohn&amp;#039;s disease and has done ...</td>\n",
              "      <td>8.0</td>\n",
              "      <td>\"My son Crohn&amp;#039;s disease done well Asacol....</td>\n",
              "      <td>0.4767</td>\n",
              "      <td>2</td>\n",
              "      <td>positive</td>\n",
              "      <td>2</td>\n",
              "    </tr>\n",
              "    <tr>\n",
              "      <th>2</th>\n",
              "      <td>159672</td>\n",
              "      <td>\"Quick reduction of symptoms\"</td>\n",
              "      <td>9.0</td>\n",
              "      <td>\"Quick reduction symptoms\"</td>\n",
              "      <td>0.0000</td>\n",
              "      <td>0</td>\n",
              "      <td>neutral</td>\n",
              "      <td>2</td>\n",
              "    </tr>\n",
              "    <tr>\n",
              "      <th>3</th>\n",
              "      <td>39293</td>\n",
              "      <td>\"Contrave combines drugs that were used for al...</td>\n",
              "      <td>9.0</td>\n",
              "      <td>\"Contrave combines drugs used alcohol, smoking...</td>\n",
              "      <td>0.8115</td>\n",
              "      <td>2</td>\n",
              "      <td>positive</td>\n",
              "      <td>2</td>\n",
              "    </tr>\n",
              "    <tr>\n",
              "      <th>4</th>\n",
              "      <td>97768</td>\n",
              "      <td>\"I have been on this birth control for one cyc...</td>\n",
              "      <td>9.0</td>\n",
              "      <td>\"I birth control one cycle. After reading revi...</td>\n",
              "      <td>0.9617</td>\n",
              "      <td>2</td>\n",
              "      <td>positive</td>\n",
              "      <td>2</td>\n",
              "    </tr>\n",
              "  </tbody>\n",
              "</table>\n",
              "</div>\n",
              "      <button class=\"colab-df-convert\" onclick=\"convertToInteractive('df-e1a320a2-5ad0-4f1a-8269-bc951a8ad39a')\"\n",
              "              title=\"Convert this dataframe to an interactive table.\"\n",
              "              style=\"display:none;\">\n",
              "        \n",
              "  <svg xmlns=\"http://www.w3.org/2000/svg\" height=\"24px\"viewBox=\"0 0 24 24\"\n",
              "       width=\"24px\">\n",
              "    <path d=\"M0 0h24v24H0V0z\" fill=\"none\"/>\n",
              "    <path d=\"M18.56 5.44l.94 2.06.94-2.06 2.06-.94-2.06-.94-.94-2.06-.94 2.06-2.06.94zm-11 1L8.5 8.5l.94-2.06 2.06-.94-2.06-.94L8.5 2.5l-.94 2.06-2.06.94zm10 10l.94 2.06.94-2.06 2.06-.94-2.06-.94-.94-2.06-.94 2.06-2.06.94z\"/><path d=\"M17.41 7.96l-1.37-1.37c-.4-.4-.92-.59-1.43-.59-.52 0-1.04.2-1.43.59L10.3 9.45l-7.72 7.72c-.78.78-.78 2.05 0 2.83L4 21.41c.39.39.9.59 1.41.59.51 0 1.02-.2 1.41-.59l7.78-7.78 2.81-2.81c.8-.78.8-2.07 0-2.86zM5.41 20L4 18.59l7.72-7.72 1.47 1.35L5.41 20z\"/>\n",
              "  </svg>\n",
              "      </button>\n",
              "      \n",
              "  <style>\n",
              "    .colab-df-container {\n",
              "      display:flex;\n",
              "      flex-wrap:wrap;\n",
              "      gap: 12px;\n",
              "    }\n",
              "\n",
              "    .colab-df-convert {\n",
              "      background-color: #E8F0FE;\n",
              "      border: none;\n",
              "      border-radius: 50%;\n",
              "      cursor: pointer;\n",
              "      display: none;\n",
              "      fill: #1967D2;\n",
              "      height: 32px;\n",
              "      padding: 0 0 0 0;\n",
              "      width: 32px;\n",
              "    }\n",
              "\n",
              "    .colab-df-convert:hover {\n",
              "      background-color: #E2EBFA;\n",
              "      box-shadow: 0px 1px 2px rgba(60, 64, 67, 0.3), 0px 1px 3px 1px rgba(60, 64, 67, 0.15);\n",
              "      fill: #174EA6;\n",
              "    }\n",
              "\n",
              "    [theme=dark] .colab-df-convert {\n",
              "      background-color: #3B4455;\n",
              "      fill: #D2E3FC;\n",
              "    }\n",
              "\n",
              "    [theme=dark] .colab-df-convert:hover {\n",
              "      background-color: #434B5C;\n",
              "      box-shadow: 0px 1px 3px 1px rgba(0, 0, 0, 0.15);\n",
              "      filter: drop-shadow(0px 1px 2px rgba(0, 0, 0, 0.3));\n",
              "      fill: #FFFFFF;\n",
              "    }\n",
              "  </style>\n",
              "\n",
              "      <script>\n",
              "        const buttonEl =\n",
              "          document.querySelector('#df-e1a320a2-5ad0-4f1a-8269-bc951a8ad39a button.colab-df-convert');\n",
              "        buttonEl.style.display =\n",
              "          google.colab.kernel.accessAllowed ? 'block' : 'none';\n",
              "\n",
              "        async function convertToInteractive(key) {\n",
              "          const element = document.querySelector('#df-e1a320a2-5ad0-4f1a-8269-bc951a8ad39a');\n",
              "          const dataTable =\n",
              "            await google.colab.kernel.invokeFunction('convertToInteractive',\n",
              "                                                     [key], {});\n",
              "          if (!dataTable) return;\n",
              "\n",
              "          const docLinkHtml = 'Like what you see? Visit the ' +\n",
              "            '<a target=\"_blank\" href=https://colab.research.google.com/notebooks/data_table.ipynb>data table notebook</a>'\n",
              "            + ' to learn more about interactive tables.';\n",
              "          element.innerHTML = '';\n",
              "          dataTable['output_type'] = 'display_data';\n",
              "          await google.colab.output.renderOutput(dataTable, element);\n",
              "          const docLink = document.createElement('div');\n",
              "          docLink.innerHTML = docLinkHtml;\n",
              "          element.appendChild(docLink);\n",
              "        }\n",
              "      </script>\n",
              "    </div>\n",
              "  </div>\n",
              "  "
            ]
          },
          "metadata": {},
          "execution_count": 62
        }
      ]
    },
    {
      "cell_type": "markdown",
      "source": [
        "## Sentiment selon la note du médicament (\"colonne \"rating\") :\n",
        "si rating >= 7 alors il est codé 'positive' \\\\\n",
        "sinon si rating <= 3 alors il est codé 'negative' \\\\\n",
        "sinon si 4 <= score < 7 alors il est codé par 'neutral'"
      ],
      "metadata": {
        "id": "l970QvLv6fhM"
      }
    },
    {
      "metadata": {
        "id": "bHmsLaY2PWgr"
      },
      "cell_type": "code",
      "source": [
        "df2.loc[df2['rating'] >=7.0,\"ratingSentimentLabel\"] =\"positive\"\n",
        "df2.loc[(df2['rating'] >=4.0) & (df2['rating']<7.0),\"ratingSentimentLabel\"]= \"neutral\"\n",
        "df2.loc[df2['rating']<=3.0,\"ratingSentimentLabel\"] = \"negative\""
      ],
      "execution_count": 63,
      "outputs": []
    },
    {
      "metadata": {
        "id": "pnS_lrEpUM1a",
        "colab": {
          "base_uri": "https://localhost:8080/",
          "height": 458
        },
        "outputId": "082f637c-6324-4d81-e39c-a24c3b68ac3c"
      },
      "cell_type": "code",
      "source": [
        "df2.head()"
      ],
      "execution_count": 64,
      "outputs": [
        {
          "output_type": "execute_result",
          "data": {
            "text/plain": [
              "       Id                                             review  rating  \\\n",
              "0  163740  \"I&#039;ve tried a few antidepressants over th...    10.0   \n",
              "1  206473  \"My son has Crohn&#039;s disease and has done ...     8.0   \n",
              "2  159672                      \"Quick reduction of symptoms\"     9.0   \n",
              "3   39293  \"Contrave combines drugs that were used for al...     9.0   \n",
              "4   97768  \"I have been on this birth control for one cyc...     9.0   \n",
              "\n",
              "                                         cleanReview  vaderReviewScore  \\\n",
              "0  \"I&#039;ve tried antidepressants years (citalo...            0.7429   \n",
              "1  \"My son Crohn&#039;s disease done well Asacol....            0.4767   \n",
              "2                         \"Quick reduction symptoms\"            0.0000   \n",
              "3  \"Contrave combines drugs used alcohol, smoking...            0.8115   \n",
              "4  \"I birth control one cycle. After reading revi...            0.9617   \n",
              "\n",
              "   vaderSentiment vaderSentimentLabel  ratingSentiment ratingSentimentLabel  \n",
              "0               2            positive                2             positive  \n",
              "1               2            positive                2             positive  \n",
              "2               0             neutral                2             positive  \n",
              "3               2            positive                2             positive  \n",
              "4               2            positive                2             positive  "
            ],
            "text/html": [
              "\n",
              "  <div id=\"df-2b1c5fcb-0aa2-403c-bfd6-ad323894e70c\">\n",
              "    <div class=\"colab-df-container\">\n",
              "      <div>\n",
              "<style scoped>\n",
              "    .dataframe tbody tr th:only-of-type {\n",
              "        vertical-align: middle;\n",
              "    }\n",
              "\n",
              "    .dataframe tbody tr th {\n",
              "        vertical-align: top;\n",
              "    }\n",
              "\n",
              "    .dataframe thead th {\n",
              "        text-align: right;\n",
              "    }\n",
              "</style>\n",
              "<table border=\"1\" class=\"dataframe\">\n",
              "  <thead>\n",
              "    <tr style=\"text-align: right;\">\n",
              "      <th></th>\n",
              "      <th>Id</th>\n",
              "      <th>review</th>\n",
              "      <th>rating</th>\n",
              "      <th>cleanReview</th>\n",
              "      <th>vaderReviewScore</th>\n",
              "      <th>vaderSentiment</th>\n",
              "      <th>vaderSentimentLabel</th>\n",
              "      <th>ratingSentiment</th>\n",
              "      <th>ratingSentimentLabel</th>\n",
              "    </tr>\n",
              "  </thead>\n",
              "  <tbody>\n",
              "    <tr>\n",
              "      <th>0</th>\n",
              "      <td>163740</td>\n",
              "      <td>\"I&amp;#039;ve tried a few antidepressants over th...</td>\n",
              "      <td>10.0</td>\n",
              "      <td>\"I&amp;#039;ve tried antidepressants years (citalo...</td>\n",
              "      <td>0.7429</td>\n",
              "      <td>2</td>\n",
              "      <td>positive</td>\n",
              "      <td>2</td>\n",
              "      <td>positive</td>\n",
              "    </tr>\n",
              "    <tr>\n",
              "      <th>1</th>\n",
              "      <td>206473</td>\n",
              "      <td>\"My son has Crohn&amp;#039;s disease and has done ...</td>\n",
              "      <td>8.0</td>\n",
              "      <td>\"My son Crohn&amp;#039;s disease done well Asacol....</td>\n",
              "      <td>0.4767</td>\n",
              "      <td>2</td>\n",
              "      <td>positive</td>\n",
              "      <td>2</td>\n",
              "      <td>positive</td>\n",
              "    </tr>\n",
              "    <tr>\n",
              "      <th>2</th>\n",
              "      <td>159672</td>\n",
              "      <td>\"Quick reduction of symptoms\"</td>\n",
              "      <td>9.0</td>\n",
              "      <td>\"Quick reduction symptoms\"</td>\n",
              "      <td>0.0000</td>\n",
              "      <td>0</td>\n",
              "      <td>neutral</td>\n",
              "      <td>2</td>\n",
              "      <td>positive</td>\n",
              "    </tr>\n",
              "    <tr>\n",
              "      <th>3</th>\n",
              "      <td>39293</td>\n",
              "      <td>\"Contrave combines drugs that were used for al...</td>\n",
              "      <td>9.0</td>\n",
              "      <td>\"Contrave combines drugs used alcohol, smoking...</td>\n",
              "      <td>0.8115</td>\n",
              "      <td>2</td>\n",
              "      <td>positive</td>\n",
              "      <td>2</td>\n",
              "      <td>positive</td>\n",
              "    </tr>\n",
              "    <tr>\n",
              "      <th>4</th>\n",
              "      <td>97768</td>\n",
              "      <td>\"I have been on this birth control for one cyc...</td>\n",
              "      <td>9.0</td>\n",
              "      <td>\"I birth control one cycle. After reading revi...</td>\n",
              "      <td>0.9617</td>\n",
              "      <td>2</td>\n",
              "      <td>positive</td>\n",
              "      <td>2</td>\n",
              "      <td>positive</td>\n",
              "    </tr>\n",
              "  </tbody>\n",
              "</table>\n",
              "</div>\n",
              "      <button class=\"colab-df-convert\" onclick=\"convertToInteractive('df-2b1c5fcb-0aa2-403c-bfd6-ad323894e70c')\"\n",
              "              title=\"Convert this dataframe to an interactive table.\"\n",
              "              style=\"display:none;\">\n",
              "        \n",
              "  <svg xmlns=\"http://www.w3.org/2000/svg\" height=\"24px\"viewBox=\"0 0 24 24\"\n",
              "       width=\"24px\">\n",
              "    <path d=\"M0 0h24v24H0V0z\" fill=\"none\"/>\n",
              "    <path d=\"M18.56 5.44l.94 2.06.94-2.06 2.06-.94-2.06-.94-.94-2.06-.94 2.06-2.06.94zm-11 1L8.5 8.5l.94-2.06 2.06-.94-2.06-.94L8.5 2.5l-.94 2.06-2.06.94zm10 10l.94 2.06.94-2.06 2.06-.94-2.06-.94-.94-2.06-.94 2.06-2.06.94z\"/><path d=\"M17.41 7.96l-1.37-1.37c-.4-.4-.92-.59-1.43-.59-.52 0-1.04.2-1.43.59L10.3 9.45l-7.72 7.72c-.78.78-.78 2.05 0 2.83L4 21.41c.39.39.9.59 1.41.59.51 0 1.02-.2 1.41-.59l7.78-7.78 2.81-2.81c.8-.78.8-2.07 0-2.86zM5.41 20L4 18.59l7.72-7.72 1.47 1.35L5.41 20z\"/>\n",
              "  </svg>\n",
              "      </button>\n",
              "      \n",
              "  <style>\n",
              "    .colab-df-container {\n",
              "      display:flex;\n",
              "      flex-wrap:wrap;\n",
              "      gap: 12px;\n",
              "    }\n",
              "\n",
              "    .colab-df-convert {\n",
              "      background-color: #E8F0FE;\n",
              "      border: none;\n",
              "      border-radius: 50%;\n",
              "      cursor: pointer;\n",
              "      display: none;\n",
              "      fill: #1967D2;\n",
              "      height: 32px;\n",
              "      padding: 0 0 0 0;\n",
              "      width: 32px;\n",
              "    }\n",
              "\n",
              "    .colab-df-convert:hover {\n",
              "      background-color: #E2EBFA;\n",
              "      box-shadow: 0px 1px 2px rgba(60, 64, 67, 0.3), 0px 1px 3px 1px rgba(60, 64, 67, 0.15);\n",
              "      fill: #174EA6;\n",
              "    }\n",
              "\n",
              "    [theme=dark] .colab-df-convert {\n",
              "      background-color: #3B4455;\n",
              "      fill: #D2E3FC;\n",
              "    }\n",
              "\n",
              "    [theme=dark] .colab-df-convert:hover {\n",
              "      background-color: #434B5C;\n",
              "      box-shadow: 0px 1px 3px 1px rgba(0, 0, 0, 0.15);\n",
              "      filter: drop-shadow(0px 1px 2px rgba(0, 0, 0, 0.3));\n",
              "      fill: #FFFFFF;\n",
              "    }\n",
              "  </style>\n",
              "\n",
              "      <script>\n",
              "        const buttonEl =\n",
              "          document.querySelector('#df-2b1c5fcb-0aa2-403c-bfd6-ad323894e70c button.colab-df-convert');\n",
              "        buttonEl.style.display =\n",
              "          google.colab.kernel.accessAllowed ? 'block' : 'none';\n",
              "\n",
              "        async function convertToInteractive(key) {\n",
              "          const element = document.querySelector('#df-2b1c5fcb-0aa2-403c-bfd6-ad323894e70c');\n",
              "          const dataTable =\n",
              "            await google.colab.kernel.invokeFunction('convertToInteractive',\n",
              "                                                     [key], {});\n",
              "          if (!dataTable) return;\n",
              "\n",
              "          const docLinkHtml = 'Like what you see? Visit the ' +\n",
              "            '<a target=\"_blank\" href=https://colab.research.google.com/notebooks/data_table.ipynb>data table notebook</a>'\n",
              "            + ' to learn more about interactive tables.';\n",
              "          element.innerHTML = '';\n",
              "          dataTable['output_type'] = 'display_data';\n",
              "          await google.colab.output.renderOutput(dataTable, element);\n",
              "          const docLink = document.createElement('div');\n",
              "          docLink.innerHTML = docLinkHtml;\n",
              "          element.appendChild(docLink);\n",
              "        }\n",
              "      </script>\n",
              "    </div>\n",
              "  </div>\n",
              "  "
            ]
          },
          "metadata": {},
          "execution_count": 64
        }
      ]
    },
    {
      "cell_type": "markdown",
      "source": [
        "## Réorganisation des colonnes"
      ],
      "metadata": {
        "id": "EPata44Q6z-7"
      }
    },
    {
      "metadata": {
        "id": "QpEFV6GW1J2y"
      },
      "cell_type": "code",
      "source": [
        "df2 = df2[['Id','review','cleanReview','rating','ratingSentiment','ratingSentimentLabel','vaderReviewScore','vaderSentiment','vaderSentimentLabel']]"
      ],
      "execution_count": 65,
      "outputs": []
    },
    {
      "metadata": {
        "id": "gVaD9UXI377U",
        "colab": {
          "base_uri": "https://localhost:8080/",
          "height": 458
        },
        "outputId": "8b07c33d-7c80-4080-f323-062c05f7dfe9"
      },
      "cell_type": "code",
      "source": [
        "df2.head()"
      ],
      "execution_count": 66,
      "outputs": [
        {
          "output_type": "execute_result",
          "data": {
            "text/plain": [
              "       Id                                             review  \\\n",
              "0  163740  \"I&#039;ve tried a few antidepressants over th...   \n",
              "1  206473  \"My son has Crohn&#039;s disease and has done ...   \n",
              "2  159672                      \"Quick reduction of symptoms\"   \n",
              "3   39293  \"Contrave combines drugs that were used for al...   \n",
              "4   97768  \"I have been on this birth control for one cyc...   \n",
              "\n",
              "                                         cleanReview  rating  ratingSentiment  \\\n",
              "0  \"I&#039;ve tried antidepressants years (citalo...    10.0                2   \n",
              "1  \"My son Crohn&#039;s disease done well Asacol....     8.0                2   \n",
              "2                         \"Quick reduction symptoms\"     9.0                2   \n",
              "3  \"Contrave combines drugs used alcohol, smoking...     9.0                2   \n",
              "4  \"I birth control one cycle. After reading revi...     9.0                2   \n",
              "\n",
              "  ratingSentimentLabel  vaderReviewScore  vaderSentiment vaderSentimentLabel  \n",
              "0             positive            0.7429               2            positive  \n",
              "1             positive            0.4767               2            positive  \n",
              "2             positive            0.0000               0             neutral  \n",
              "3             positive            0.8115               2            positive  \n",
              "4             positive            0.9617               2            positive  "
            ],
            "text/html": [
              "\n",
              "  <div id=\"df-1b7648fc-6621-43be-bc21-7046ea48ad21\">\n",
              "    <div class=\"colab-df-container\">\n",
              "      <div>\n",
              "<style scoped>\n",
              "    .dataframe tbody tr th:only-of-type {\n",
              "        vertical-align: middle;\n",
              "    }\n",
              "\n",
              "    .dataframe tbody tr th {\n",
              "        vertical-align: top;\n",
              "    }\n",
              "\n",
              "    .dataframe thead th {\n",
              "        text-align: right;\n",
              "    }\n",
              "</style>\n",
              "<table border=\"1\" class=\"dataframe\">\n",
              "  <thead>\n",
              "    <tr style=\"text-align: right;\">\n",
              "      <th></th>\n",
              "      <th>Id</th>\n",
              "      <th>review</th>\n",
              "      <th>cleanReview</th>\n",
              "      <th>rating</th>\n",
              "      <th>ratingSentiment</th>\n",
              "      <th>ratingSentimentLabel</th>\n",
              "      <th>vaderReviewScore</th>\n",
              "      <th>vaderSentiment</th>\n",
              "      <th>vaderSentimentLabel</th>\n",
              "    </tr>\n",
              "  </thead>\n",
              "  <tbody>\n",
              "    <tr>\n",
              "      <th>0</th>\n",
              "      <td>163740</td>\n",
              "      <td>\"I&amp;#039;ve tried a few antidepressants over th...</td>\n",
              "      <td>\"I&amp;#039;ve tried antidepressants years (citalo...</td>\n",
              "      <td>10.0</td>\n",
              "      <td>2</td>\n",
              "      <td>positive</td>\n",
              "      <td>0.7429</td>\n",
              "      <td>2</td>\n",
              "      <td>positive</td>\n",
              "    </tr>\n",
              "    <tr>\n",
              "      <th>1</th>\n",
              "      <td>206473</td>\n",
              "      <td>\"My son has Crohn&amp;#039;s disease and has done ...</td>\n",
              "      <td>\"My son Crohn&amp;#039;s disease done well Asacol....</td>\n",
              "      <td>8.0</td>\n",
              "      <td>2</td>\n",
              "      <td>positive</td>\n",
              "      <td>0.4767</td>\n",
              "      <td>2</td>\n",
              "      <td>positive</td>\n",
              "    </tr>\n",
              "    <tr>\n",
              "      <th>2</th>\n",
              "      <td>159672</td>\n",
              "      <td>\"Quick reduction of symptoms\"</td>\n",
              "      <td>\"Quick reduction symptoms\"</td>\n",
              "      <td>9.0</td>\n",
              "      <td>2</td>\n",
              "      <td>positive</td>\n",
              "      <td>0.0000</td>\n",
              "      <td>0</td>\n",
              "      <td>neutral</td>\n",
              "    </tr>\n",
              "    <tr>\n",
              "      <th>3</th>\n",
              "      <td>39293</td>\n",
              "      <td>\"Contrave combines drugs that were used for al...</td>\n",
              "      <td>\"Contrave combines drugs used alcohol, smoking...</td>\n",
              "      <td>9.0</td>\n",
              "      <td>2</td>\n",
              "      <td>positive</td>\n",
              "      <td>0.8115</td>\n",
              "      <td>2</td>\n",
              "      <td>positive</td>\n",
              "    </tr>\n",
              "    <tr>\n",
              "      <th>4</th>\n",
              "      <td>97768</td>\n",
              "      <td>\"I have been on this birth control for one cyc...</td>\n",
              "      <td>\"I birth control one cycle. After reading revi...</td>\n",
              "      <td>9.0</td>\n",
              "      <td>2</td>\n",
              "      <td>positive</td>\n",
              "      <td>0.9617</td>\n",
              "      <td>2</td>\n",
              "      <td>positive</td>\n",
              "    </tr>\n",
              "  </tbody>\n",
              "</table>\n",
              "</div>\n",
              "      <button class=\"colab-df-convert\" onclick=\"convertToInteractive('df-1b7648fc-6621-43be-bc21-7046ea48ad21')\"\n",
              "              title=\"Convert this dataframe to an interactive table.\"\n",
              "              style=\"display:none;\">\n",
              "        \n",
              "  <svg xmlns=\"http://www.w3.org/2000/svg\" height=\"24px\"viewBox=\"0 0 24 24\"\n",
              "       width=\"24px\">\n",
              "    <path d=\"M0 0h24v24H0V0z\" fill=\"none\"/>\n",
              "    <path d=\"M18.56 5.44l.94 2.06.94-2.06 2.06-.94-2.06-.94-.94-2.06-.94 2.06-2.06.94zm-11 1L8.5 8.5l.94-2.06 2.06-.94-2.06-.94L8.5 2.5l-.94 2.06-2.06.94zm10 10l.94 2.06.94-2.06 2.06-.94-2.06-.94-.94-2.06-.94 2.06-2.06.94z\"/><path d=\"M17.41 7.96l-1.37-1.37c-.4-.4-.92-.59-1.43-.59-.52 0-1.04.2-1.43.59L10.3 9.45l-7.72 7.72c-.78.78-.78 2.05 0 2.83L4 21.41c.39.39.9.59 1.41.59.51 0 1.02-.2 1.41-.59l7.78-7.78 2.81-2.81c.8-.78.8-2.07 0-2.86zM5.41 20L4 18.59l7.72-7.72 1.47 1.35L5.41 20z\"/>\n",
              "  </svg>\n",
              "      </button>\n",
              "      \n",
              "  <style>\n",
              "    .colab-df-container {\n",
              "      display:flex;\n",
              "      flex-wrap:wrap;\n",
              "      gap: 12px;\n",
              "    }\n",
              "\n",
              "    .colab-df-convert {\n",
              "      background-color: #E8F0FE;\n",
              "      border: none;\n",
              "      border-radius: 50%;\n",
              "      cursor: pointer;\n",
              "      display: none;\n",
              "      fill: #1967D2;\n",
              "      height: 32px;\n",
              "      padding: 0 0 0 0;\n",
              "      width: 32px;\n",
              "    }\n",
              "\n",
              "    .colab-df-convert:hover {\n",
              "      background-color: #E2EBFA;\n",
              "      box-shadow: 0px 1px 2px rgba(60, 64, 67, 0.3), 0px 1px 3px 1px rgba(60, 64, 67, 0.15);\n",
              "      fill: #174EA6;\n",
              "    }\n",
              "\n",
              "    [theme=dark] .colab-df-convert {\n",
              "      background-color: #3B4455;\n",
              "      fill: #D2E3FC;\n",
              "    }\n",
              "\n",
              "    [theme=dark] .colab-df-convert:hover {\n",
              "      background-color: #434B5C;\n",
              "      box-shadow: 0px 1px 3px 1px rgba(0, 0, 0, 0.15);\n",
              "      filter: drop-shadow(0px 1px 2px rgba(0, 0, 0, 0.3));\n",
              "      fill: #FFFFFF;\n",
              "    }\n",
              "  </style>\n",
              "\n",
              "      <script>\n",
              "        const buttonEl =\n",
              "          document.querySelector('#df-1b7648fc-6621-43be-bc21-7046ea48ad21 button.colab-df-convert');\n",
              "        buttonEl.style.display =\n",
              "          google.colab.kernel.accessAllowed ? 'block' : 'none';\n",
              "\n",
              "        async function convertToInteractive(key) {\n",
              "          const element = document.querySelector('#df-1b7648fc-6621-43be-bc21-7046ea48ad21');\n",
              "          const dataTable =\n",
              "            await google.colab.kernel.invokeFunction('convertToInteractive',\n",
              "                                                     [key], {});\n",
              "          if (!dataTable) return;\n",
              "\n",
              "          const docLinkHtml = 'Like what you see? Visit the ' +\n",
              "            '<a target=\"_blank\" href=https://colab.research.google.com/notebooks/data_table.ipynb>data table notebook</a>'\n",
              "            + ' to learn more about interactive tables.';\n",
              "          element.innerHTML = '';\n",
              "          dataTable['output_type'] = 'display_data';\n",
              "          await google.colab.output.renderOutput(dataTable, element);\n",
              "          const docLink = document.createElement('div');\n",
              "          docLink.innerHTML = docLinkHtml;\n",
              "          element.appendChild(docLink);\n",
              "        }\n",
              "      </script>\n",
              "    </div>\n",
              "  </div>\n",
              "  "
            ]
          },
          "metadata": {},
          "execution_count": 66
        }
      ]
    },
    {
      "cell_type": "markdown",
      "source": [
        "Pour sauvegarder le jeu de données prétraitées au format csv"
      ],
      "metadata": {
        "id": "CehHiu_L6-b3"
      }
    },
    {
      "metadata": {
        "id": "Ara3cGGh4BMR"
      },
      "cell_type": "code",
      "source": [
        "df2.to_csv('data_processed.csv')    # To save preprocessed dataset to csv"
      ],
      "execution_count": 71,
      "outputs": []
    },
    {
      "metadata": {
        "id": "bdenGjMQ4d5p",
        "colab": {
          "base_uri": "https://localhost:8080/",
          "height": 458
        },
        "outputId": "7fdcb06e-c958-44d9-e6f3-a7e6ae4d52be"
      },
      "cell_type": "code",
      "source": [
        "df2.head()"
      ],
      "execution_count": 72,
      "outputs": [
        {
          "output_type": "execute_result",
          "data": {
            "text/plain": [
              "       Id                                             review  \\\n",
              "0  163740  \"I&#039;ve tried a few antidepressants over th...   \n",
              "1  206473  \"My son has Crohn&#039;s disease and has done ...   \n",
              "2  159672                      \"Quick reduction of symptoms\"   \n",
              "3   39293  \"Contrave combines drugs that were used for al...   \n",
              "4   97768  \"I have been on this birth control for one cyc...   \n",
              "\n",
              "                                         cleanReview  rating  ratingSentiment  \\\n",
              "0  \"I&#039;ve tried antidepressants years (citalo...    10.0                2   \n",
              "1  \"My son Crohn&#039;s disease done well Asacol....     8.0                2   \n",
              "2                         \"Quick reduction symptoms\"     9.0                2   \n",
              "3  \"Contrave combines drugs used alcohol, smoking...     9.0                2   \n",
              "4  \"I birth control one cycle. After reading revi...     9.0                2   \n",
              "\n",
              "  ratingSentimentLabel  vaderReviewScore  vaderSentiment vaderSentimentLabel  \n",
              "0             positive            0.7429               2            positive  \n",
              "1             positive            0.4767               2            positive  \n",
              "2             positive            0.0000               0             neutral  \n",
              "3             positive            0.8115               2            positive  \n",
              "4             positive            0.9617               2            positive  "
            ],
            "text/html": [
              "\n",
              "  <div id=\"df-55cc1a3d-372e-48b7-9c95-63d90e4cdcea\">\n",
              "    <div class=\"colab-df-container\">\n",
              "      <div>\n",
              "<style scoped>\n",
              "    .dataframe tbody tr th:only-of-type {\n",
              "        vertical-align: middle;\n",
              "    }\n",
              "\n",
              "    .dataframe tbody tr th {\n",
              "        vertical-align: top;\n",
              "    }\n",
              "\n",
              "    .dataframe thead th {\n",
              "        text-align: right;\n",
              "    }\n",
              "</style>\n",
              "<table border=\"1\" class=\"dataframe\">\n",
              "  <thead>\n",
              "    <tr style=\"text-align: right;\">\n",
              "      <th></th>\n",
              "      <th>Id</th>\n",
              "      <th>review</th>\n",
              "      <th>cleanReview</th>\n",
              "      <th>rating</th>\n",
              "      <th>ratingSentiment</th>\n",
              "      <th>ratingSentimentLabel</th>\n",
              "      <th>vaderReviewScore</th>\n",
              "      <th>vaderSentiment</th>\n",
              "      <th>vaderSentimentLabel</th>\n",
              "    </tr>\n",
              "  </thead>\n",
              "  <tbody>\n",
              "    <tr>\n",
              "      <th>0</th>\n",
              "      <td>163740</td>\n",
              "      <td>\"I&amp;#039;ve tried a few antidepressants over th...</td>\n",
              "      <td>\"I&amp;#039;ve tried antidepressants years (citalo...</td>\n",
              "      <td>10.0</td>\n",
              "      <td>2</td>\n",
              "      <td>positive</td>\n",
              "      <td>0.7429</td>\n",
              "      <td>2</td>\n",
              "      <td>positive</td>\n",
              "    </tr>\n",
              "    <tr>\n",
              "      <th>1</th>\n",
              "      <td>206473</td>\n",
              "      <td>\"My son has Crohn&amp;#039;s disease and has done ...</td>\n",
              "      <td>\"My son Crohn&amp;#039;s disease done well Asacol....</td>\n",
              "      <td>8.0</td>\n",
              "      <td>2</td>\n",
              "      <td>positive</td>\n",
              "      <td>0.4767</td>\n",
              "      <td>2</td>\n",
              "      <td>positive</td>\n",
              "    </tr>\n",
              "    <tr>\n",
              "      <th>2</th>\n",
              "      <td>159672</td>\n",
              "      <td>\"Quick reduction of symptoms\"</td>\n",
              "      <td>\"Quick reduction symptoms\"</td>\n",
              "      <td>9.0</td>\n",
              "      <td>2</td>\n",
              "      <td>positive</td>\n",
              "      <td>0.0000</td>\n",
              "      <td>0</td>\n",
              "      <td>neutral</td>\n",
              "    </tr>\n",
              "    <tr>\n",
              "      <th>3</th>\n",
              "      <td>39293</td>\n",
              "      <td>\"Contrave combines drugs that were used for al...</td>\n",
              "      <td>\"Contrave combines drugs used alcohol, smoking...</td>\n",
              "      <td>9.0</td>\n",
              "      <td>2</td>\n",
              "      <td>positive</td>\n",
              "      <td>0.8115</td>\n",
              "      <td>2</td>\n",
              "      <td>positive</td>\n",
              "    </tr>\n",
              "    <tr>\n",
              "      <th>4</th>\n",
              "      <td>97768</td>\n",
              "      <td>\"I have been on this birth control for one cyc...</td>\n",
              "      <td>\"I birth control one cycle. After reading revi...</td>\n",
              "      <td>9.0</td>\n",
              "      <td>2</td>\n",
              "      <td>positive</td>\n",
              "      <td>0.9617</td>\n",
              "      <td>2</td>\n",
              "      <td>positive</td>\n",
              "    </tr>\n",
              "  </tbody>\n",
              "</table>\n",
              "</div>\n",
              "      <button class=\"colab-df-convert\" onclick=\"convertToInteractive('df-55cc1a3d-372e-48b7-9c95-63d90e4cdcea')\"\n",
              "              title=\"Convert this dataframe to an interactive table.\"\n",
              "              style=\"display:none;\">\n",
              "        \n",
              "  <svg xmlns=\"http://www.w3.org/2000/svg\" height=\"24px\"viewBox=\"0 0 24 24\"\n",
              "       width=\"24px\">\n",
              "    <path d=\"M0 0h24v24H0V0z\" fill=\"none\"/>\n",
              "    <path d=\"M18.56 5.44l.94 2.06.94-2.06 2.06-.94-2.06-.94-.94-2.06-.94 2.06-2.06.94zm-11 1L8.5 8.5l.94-2.06 2.06-.94-2.06-.94L8.5 2.5l-.94 2.06-2.06.94zm10 10l.94 2.06.94-2.06 2.06-.94-2.06-.94-.94-2.06-.94 2.06-2.06.94z\"/><path d=\"M17.41 7.96l-1.37-1.37c-.4-.4-.92-.59-1.43-.59-.52 0-1.04.2-1.43.59L10.3 9.45l-7.72 7.72c-.78.78-.78 2.05 0 2.83L4 21.41c.39.39.9.59 1.41.59.51 0 1.02-.2 1.41-.59l7.78-7.78 2.81-2.81c.8-.78.8-2.07 0-2.86zM5.41 20L4 18.59l7.72-7.72 1.47 1.35L5.41 20z\"/>\n",
              "  </svg>\n",
              "      </button>\n",
              "      \n",
              "  <style>\n",
              "    .colab-df-container {\n",
              "      display:flex;\n",
              "      flex-wrap:wrap;\n",
              "      gap: 12px;\n",
              "    }\n",
              "\n",
              "    .colab-df-convert {\n",
              "      background-color: #E8F0FE;\n",
              "      border: none;\n",
              "      border-radius: 50%;\n",
              "      cursor: pointer;\n",
              "      display: none;\n",
              "      fill: #1967D2;\n",
              "      height: 32px;\n",
              "      padding: 0 0 0 0;\n",
              "      width: 32px;\n",
              "    }\n",
              "\n",
              "    .colab-df-convert:hover {\n",
              "      background-color: #E2EBFA;\n",
              "      box-shadow: 0px 1px 2px rgba(60, 64, 67, 0.3), 0px 1px 3px 1px rgba(60, 64, 67, 0.15);\n",
              "      fill: #174EA6;\n",
              "    }\n",
              "\n",
              "    [theme=dark] .colab-df-convert {\n",
              "      background-color: #3B4455;\n",
              "      fill: #D2E3FC;\n",
              "    }\n",
              "\n",
              "    [theme=dark] .colab-df-convert:hover {\n",
              "      background-color: #434B5C;\n",
              "      box-shadow: 0px 1px 3px 1px rgba(0, 0, 0, 0.15);\n",
              "      filter: drop-shadow(0px 1px 2px rgba(0, 0, 0, 0.3));\n",
              "      fill: #FFFFFF;\n",
              "    }\n",
              "  </style>\n",
              "\n",
              "      <script>\n",
              "        const buttonEl =\n",
              "          document.querySelector('#df-55cc1a3d-372e-48b7-9c95-63d90e4cdcea button.colab-df-convert');\n",
              "        buttonEl.style.display =\n",
              "          google.colab.kernel.accessAllowed ? 'block' : 'none';\n",
              "\n",
              "        async function convertToInteractive(key) {\n",
              "          const element = document.querySelector('#df-55cc1a3d-372e-48b7-9c95-63d90e4cdcea');\n",
              "          const dataTable =\n",
              "            await google.colab.kernel.invokeFunction('convertToInteractive',\n",
              "                                                     [key], {});\n",
              "          if (!dataTable) return;\n",
              "\n",
              "          const docLinkHtml = 'Like what you see? Visit the ' +\n",
              "            '<a target=\"_blank\" href=https://colab.research.google.com/notebooks/data_table.ipynb>data table notebook</a>'\n",
              "            + ' to learn more about interactive tables.';\n",
              "          element.innerHTML = '';\n",
              "          dataTable['output_type'] = 'display_data';\n",
              "          await google.colab.output.renderOutput(dataTable, element);\n",
              "          const docLink = document.createElement('div');\n",
              "          docLink.innerHTML = docLinkHtml;\n",
              "          element.appendChild(docLink);\n",
              "        }\n",
              "      </script>\n",
              "    </div>\n",
              "  </div>\n",
              "  "
            ]
          },
          "metadata": {},
          "execution_count": 72
        }
      ]
    },
    {
      "metadata": {
        "id": "5Cn0ix2o7OXl"
      },
      "cell_type": "code",
      "source": [
        "df2.to_csv('data_processed.csv.gz',compression='gzip')"
      ],
      "execution_count": 73,
      "outputs": []
    },
    {
      "cell_type": "code",
      "source": [],
      "metadata": {
        "id": "p_LhnFfw9acu"
      },
      "execution_count": null,
      "outputs": []
    }
  ]
}